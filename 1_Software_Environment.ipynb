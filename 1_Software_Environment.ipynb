{
 "cells": [
  {
   "cell_type": "markdown",
   "id": "d3a54adc-b482-4557-93a6-707a69bc3118",
   "metadata": {},
   "source": [
    "# Install Required Software with Conda\n",
    "\n",
    "*Author: Alex Lewandowski; Alaska Satellite Facility*\n",
    "\n",
    "Installs the `osl_mintpy` conda environment, which is used by all other notebooks in this Jupyter Book.\n",
    "\n",
    "---\n",
    "## 0. Import Required Software"
   ]
  },
  {
   "cell_type": "code",
   "execution_count": null,
   "id": "1c5e8edc-51ce-4c7b-9c5b-777f47d828e4",
   "metadata": {},
   "outputs": [],
   "source": [
    "from pathlib import Path\n",
    "import yaml"
   ]
  },
  {
   "cell_type": "markdown",
   "id": "d3876ecc-f409-4709-809c-9a84e871729e",
   "metadata": {},
   "source": [
    "---\n",
    "## 1. Build the `osl_mintpy` Conda Environment\n",
    "\n",
    "*Note: We use a conda environment config with all packages pinned for stability: `environment_locked.yaml'*\n",
    "\n",
    "*There is an unpinned `environment.yaml` provided, but it may not remain stable with dependency updates, which can occur any time*"
   ]
  },
  {
   "cell_type": "code",
   "execution_count": null,
   "id": "6cd8b5d4-fa91-4b04-83ed-f00f0cb3f190",
   "metadata": {},
   "outputs": [],
   "source": [
    "yaml_name = \"environment_locked.yaml\"\n",
    "yaml_name = \"environment.yaml\"\n",
    "conda_yaml_pth = list(Path.cwd().glob(yaml_name))[0]\n",
    "with open(conda_yaml_pth, 'r') as f:\n",
    "    try:\n",
    "        env = yaml.safe_load(f)\n",
    "        env_name = env['name']\n",
    "    except yaml.YAMLError:\n",
    "        raise\n",
    "print(f'environment_locked.yaml path: {conda_yaml_pth}')\n",
    "print(f'environment name: {env_name}')"
   ]
  },
  {
   "cell_type": "code",
   "execution_count": null,
   "id": "bc5b7965-e4ad-4406-b292-af1038f19e8e",
   "metadata": {},
   "outputs": [],
   "source": [
    "# If running outside of OpenSARLab, update conda_prefix \n",
    "# to the path of your system's conda envs directory\n",
    "conda_prefix = Path.home()/f\".local/envs/{env_name}\"\n",
    "\n",
    "# Create the environment\n",
    "!mamba env create -f {conda_yaml_pth} --prefix {conda_prefix} -q --force\n",
    "\n",
    "# Run the script to install ARIA-Tools\n",
    "!source \"osl_mintpy_env.sh\""
   ]
  },
  {
   "cell_type": "code",
   "execution_count": null,
   "id": "47e78911-7771-4ad6-8522-6b5e2bdcfc16",
   "metadata": {},
   "outputs": [],
   "source": []
  }
 ],
 "metadata": {
  "kernelspec": {
   "display_name": "base",
   "language": "python",
   "name": "python3"
  },
  "language_info": {
   "codemirror_mode": {
    "name": "ipython",
    "version": 3
   },
   "file_extension": ".py",
   "mimetype": "text/x-python",
   "name": "python",
   "nbconvert_exporter": "python",
   "pygments_lexer": "ipython3",
   "version": "3.11.6"
  }
 },
 "nbformat": 4,
 "nbformat_minor": 5
}
