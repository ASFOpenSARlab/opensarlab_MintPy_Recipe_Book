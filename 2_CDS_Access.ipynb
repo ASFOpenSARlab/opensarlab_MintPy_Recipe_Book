{
 "cells": [
  {
   "cell_type": "markdown",
   "id": "0bf361ce-d249-4ef3-81ca-06601e189364",
   "metadata": {},
   "source": [
    "# Set Up Climate Data Store Access (Optional)\n",
    "\n",
    "*Author: Alex Lewandowski; Alaska Satellite Facility*\n",
    "\n",
    "<br>\n",
    "<div class=\"alert alert-warning\">\n",
    "<font face=\"Calibri\" size=\"5\"><b><font color='rgba(200,0,0,0.2)'> <u>The Climate Data Store has migrated to a new website, CDS-Beta</u></font></b></font>\n",
    "\n",
    "<font face=\"Calibri\" size=\"3\">The old Climate Data Store (CDS) will no longer be available after September 26, 2024. If you have not yet done so, please follow the instructions below. You will need to create a European Centre for Medium-Range Weather Forecasts (ECMWF) account, accept the terms of use for ERA5 data, and run this notebook to update your `.cdsapirc` file.\n",
    "</font>\n",
    "</div>\n",
    "\n",
    "### This step only needs to be completed once \n",
    "\n",
    "- Running the MintPy smallbaselineApp's `correct_troposphere` step requires downloading atmospheric pressure data from the Climate Data Store (CDS), which requires an ECMWF Personal Access Token\n",
    "- If don't yet have an ECMWF Personal Access Token:\n",
    "    - Proceed to [ECMWF](https://www.ecmwf.int/) and create an account\n",
    "    - Authorize your account by clicking the link in the validation email\n",
    "    - Proceed to [CDS-Beta](cds-beta.climate.copernicus.eu)\n",
    "    - Click the \"Datasets\" tab\n",
    "    - Search for \"ERA5\"\n",
    "    - Select any of ERA5 datasets that appear\n",
    "    - Select the `Download` tab\n",
    "    - Scroll towards the bottom of the screen and accept the `Terms of use`\n",
    "    - Click on your name at the top right of the screen and select \"Your profile\" from the menu that appears\n",
    "    - Scroll down to find your Personal Access Token\n",
    "- Run the following 2 code cells to add or update your credentials from this notebook **OR** open an OpenSARlab terminal and complete the following steps:\n",
    "    - Use vim or another text editor to open the `~/.cdsapirc` config file\n",
    "        - Add the CDS url to the first line of the config and your CDS `UID` and CDS`API Key` to the 2nd line of the config\n",
    "            - This should be formatted like:\n",
    "                - url: https://cds-beta.climate.copernicus.eu/api\n",
    "                - key: your_personal_access_token\n",
    "        - Save the config and exit the text editor\n",
    "\n",
    "**If you do not add your ECMWF credentials to `~/.cdsapirc`, MintPy's `correct_troposphere` step will fail**\n",
    "\n",
    "---\n",
    "\n",
    "<div class=\"alert alert-info\" style=\"display: flex; align-items: center; font-family: 'Times New Roman', Times, serif; background-color: #d1ecf1;\">\n",
    "  <div style=\"display: flex; align-items: center; width: 10%;\">\n",
    "    <a href=\"https://github.com/ASFOpenSARlab/opensarlab_MintPy_Recipe_Book/issues\">\n",
    "      <img src=\"github_issues.png\" alt=\"GitHub logo over the word Issues\" style=\"width: 100%;\">\n",
    "    </a>\n",
    "  </div>\n",
    "  <div style=\"width: 95%;\">\n",
    "    <b>Did you find a bug? Do you have a feature request?</b>\n",
    "    <br/>\n",
    "    Explore GitHub Issues on this Jupyter Book's GitHub repository. Find solutions, add to the discussion, or start a new bug report or feature request: <a href=\"https://github.com/ASFOpenSARlab/opensarlab_MintPy_Recipe_Book/issues\">opensarlab_MintPy_Recipe_Book Issues</a>\n",
    "  </div>\n",
    "</div>\n",
    "\n",
    "<div class=\"alert alert-info\" style=\"display: flex; align-items: center; justify-content: space-between; font-family: 'Times New Roman', Times, serif; background-color: #d1ecf1;\">\n",
    "  <div style=\"display: flex; align-items: center; width: 10%; margin-right: 10px;\">\n",
    "    <a href=\"mailto:uso@asf.alaska.edu\">\n",
    "      <img src=\"ASF_support_logo.png\" alt=\"ASF logo\" style=\"width: 100%\">\n",
    "    </a>\n",
    "  </div>\n",
    "  <div style=\"width: 95%;\">\n",
    "    <b>Have a question related to SAR, ASF data access, or performing SBAS time series analyses with MintPy?</b>\n",
    "    <br/>\n",
    "    Contact ASF User Support: <a href=\"mailto:uso@asf.alaska.edu\">uso@asf.alaska.edu</a>\n",
    "  </div>\n",
    "</div>\n",
    "\n",
    "---\n",
    "## 0. Import Required Software"
   ]
  },
  {
   "cell_type": "code",
   "execution_count": null,
   "id": "a93c97ab-8455-4539-b849-d60d01f11384",
   "metadata": {},
   "outputs": [],
   "source": [
    "from getpass import getpass\n",
    "from pathlib import Path\n",
    "\n",
    "import opensarlab_lib as osl"
   ]
  },
  {
   "cell_type": "markdown",
   "id": "2407f633-e539-4316-8719-17002e5e0274",
   "metadata": {},
   "source": [
    "---\n",
    "## 1. Check for an Existing CDS credentials"
   ]
  },
  {
   "cell_type": "code",
   "execution_count": null,
   "id": "31d55fb7-0db7-4a61-a3c4-285a56f321ee",
   "metadata": {},
   "outputs": [],
   "source": [
    "pyaps_cfg = Path.home() / '.cdsapirc'\n",
    "try:\n",
    "    with open(pyaps_cfg, 'r') as f:\n",
    "        lines = f.readlines()\n",
    "        if lines and 'cds-beta' in lines[0]:\n",
    "            print(\"Found ECMWF credentials in ~/.cdsapirc\")\n",
    "            print(\"Would you like to update them?\")\n",
    "            update_cds_cfg = osl.select_parameter([\"Do not update my ECMWF personal access token\", \n",
    "                                                    \"Update my ECMWF personal access token\"])\n",
    "            display(update_cds_cfg)  \n",
    "        elif lines and 'cds' in lines[0] and 'beta' not in lines[0]:\n",
    "            print(\"Your ~/.cdsapirc contains credentials for the deprecated CDS website.\")\n",
    "            print(\"Run the following code cell to update them.\")\n",
    "            update_cds_cfg = None\n",
    "        else:\n",
    "            update_cds_cfg = None\n",
    "except FileNotFoundError:\n",
    "    update_cds_cfg = None"
   ]
  },
  {
   "cell_type": "markdown",
   "id": "f6552652-bff6-4e36-a8f4-1283c7df48e1",
   "metadata": {},
   "source": [
    "---\n",
    "## 2. Create or Update CDS Credentials"
   ]
  },
  {
   "cell_type": "code",
   "execution_count": null,
   "id": "4f5bee69-eef3-4966-9c8e-af05d9e80d25",
   "metadata": {},
   "outputs": [],
   "source": [
    "if not update_cds_cfg or \"Update\" in update_cds_cfg.value:\n",
    "    with open(pyaps_cfg, 'w') as f:\n",
    "            pac = getpass(\"Enter your ECMWF Personal Access Token\")\n",
    "            lines = ['', '']\n",
    "            lines[0] = f\"url: https://cds-beta.climate.copernicus.eu/api\\n\"\n",
    "            lines[1] = f\"key: {pac}\\n\"\n",
    "            f.seek(0)\n",
    "            f.writelines(lines)\n",
    "            f.truncate()"
   ]
  },
  {
   "cell_type": "code",
   "execution_count": null,
   "id": "0847d6d3-f28d-440b-b829-628ac0639ca8",
   "metadata": {},
   "outputs": [],
   "source": []
  }
 ],
 "metadata": {
  "kernelspec": {
   "display_name": "Python [conda env:.local-opensarlab_mintpy_recipe_book]",
   "language": "python",
   "name": "conda-env-.local-opensarlab_mintpy_recipe_book-py"
  },
  "language_info": {
   "codemirror_mode": {
    "name": "ipython",
    "version": 3
   },
   "file_extension": ".py",
   "mimetype": "text/x-python",
   "name": "python",
   "nbconvert_exporter": "python",
   "pygments_lexer": "ipython3",
   "version": "3.9.18"
  }
 },
 "nbformat": 4,
 "nbformat_minor": 5
}
