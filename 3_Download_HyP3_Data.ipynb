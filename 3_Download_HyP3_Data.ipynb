{
 "cells": [
  {
   "cell_type": "markdown",
   "id": "ca471365-111f-4b70-8911-8d282003db90",
   "metadata": {},
   "source": [
    "# Download & Subset HyP3 SBAS Stack (InSAR or Burst-InSAR)\n",
    "\n",
    "*Author: Alex Lewandowski; Alaska Satellite Facility*\n",
    "\n",
    "This notebook assumes that you have already ordered processing for an InSAR Short Baseline Subset (SBAS) stack using [ASF HyP3](https://hyp3-docs.asf.alaska.edu/), available in a web browser at [ASF Vertex](https://search.asf.alaska.edu/) or programmatically with [hyp3-sdk](https://github.com/ASFHyP3/hyp3-sdk).\n",
    "\n",
    "---\n",
    "## 0. Import Required Software "
   ]
  },
  {
   "cell_type": "code",
   "execution_count": 27,
   "id": "98210e5a-6f29-4a48-9021-18080b1a5761",
   "metadata": {},
   "outputs": [],
   "source": [
    "import copy\n",
    "from datetime import datetime, timedelta\n",
    "from ipyfilechooser import FileChooser\n",
    "import ipywidgets as widgets\n",
    "from itertools import chain\n",
    "import json\n",
    "from pathlib import Path\n",
    "import re\n",
    "import requests\n",
    "import shutil\n",
    "import sys\n",
    "from tqdm.auto import tqdm\n",
    "from typing import Union\n",
    "\n",
    "import numpy as np\n",
    "from osgeo import gdal\n",
    "gdal.UseExceptions()\n",
    "import pandas\n",
    "from rasterio.warp import transform_bounds\n",
    "\n",
    "import opensarlab_lib as osl\n",
    "\n",
    "from hyp3_sdk import Batch, HyP3\n",
    "\n",
    "from IPython.display import Markdown, display, clear_output\n",
    "\n",
    "current = Path(\"..\").resolve()\n",
    "sys.path.append(str(current))\n",
    "import util.util as util\n",
    "\n",
    "%matplotlib widget"
   ]
  },
  {
   "cell_type": "markdown",
   "id": "4453ed21-0573-4764-b53d-fe6c656be756",
   "metadata": {},
   "source": [
    "---\n",
    "\n",
    "## 1. Select or create a working directory for the analysis"
   ]
  },
  {
   "cell_type": "code",
   "execution_count": 28,
   "id": "d09e7a9e-3073-4c43-b2f1-9d5c75d407c7",
   "metadata": {},
   "outputs": [
    {
     "data": {
      "application/vnd.jupyter.widget-view+json": {
       "model_id": "74552e3214f4432093f1383202d9971d",
       "version_major": 2,
       "version_minor": 0
      },
      "text/plain": [
       "RadioButtons(layout=Layout(min_width='800px'), options=('Download new SBAS stack', 'Add to existing SBAS stack…"
      ]
     },
     "metadata": {},
     "output_type": "display_data"
    }
   ],
   "source": [
    "age = osl.select_parameter(\n",
    "    [\n",
    "        \"Download new SBAS stack\",\n",
    "        \"Add to existing SBAS stack\"\n",
    "    ]\n",
    ")\n",
    "display(age)"
   ]
  },
  {
   "cell_type": "code",
   "execution_count": 29,
   "id": "cc504661-8853-4904-8f86-0c87d950bfd7",
   "metadata": {},
   "outputs": [
    {
     "name": "stdout",
     "output_type": "stream",
     "text": [
      "Current working directory: /home/jovyan/opensarlab_MintPy_Recipe_Book\n",
      "Create a new directory to hold your data:\n"
     ]
    },
    {
     "name": "stdin",
     "output_type": "stream",
     "text": [
      "Enter an unused path for a new data directory:  /home/jovyan/ AZ_burst_2\n"
     ]
    }
   ],
   "source": [
    "new = 'new' in age.value\n",
    "\n",
    "if new:\n",
    "    print(f'Current working directory: {Path.cwd()}')\n",
    "    print('Create a new directory to hold your data:')\n",
    "    data_path = input(f'Enter an unused path for a new data directory:  {Path.home()}/')\n",
    "    try:\n",
    "        data_path = Path.home() / data_path.strip()\n",
    "        data_path.mkdir()\n",
    "    except:\n",
    "        raise\n",
    "else:\n",
    "    path = Path.cwd()\n",
    "    fc = FileChooser(path)\n",
    "    display(fc)"
   ]
  },
  {
   "cell_type": "code",
   "execution_count": 30,
   "id": "c6168373-7bc7-4f26-91cd-e27d77672ffd",
   "metadata": {},
   "outputs": [],
   "source": [
    "if not new:\n",
    "    data_path = Path.home()/fc.selected_path"
   ]
  },
  {
   "cell_type": "markdown",
   "id": "3ec94add-ab46-42a2-b784-a0a90851b779",
   "metadata": {},
   "source": [
    "---\n",
    "\n",
    "## 2. Download SBAS Stack from HyP3\n",
    "\n",
    "**Create a HyP3 object and authenticate**"
   ]
  },
  {
   "cell_type": "code",
   "execution_count": 31,
   "id": "c012ca68-6c09-46c5-94b8-32c7a633229f",
   "metadata": {},
   "outputs": [
    {
     "name": "stdin",
     "output_type": "stream",
     "text": [
      "NASA Earthdata Login username:  aflewandowski\n",
      "NASA Earthdata Login password:  ········\n"
     ]
    }
   ],
   "source": [
    "hyp3 = HyP3(prompt=True)"
   ]
  },
  {
   "cell_type": "markdown",
   "id": "ad54c61e-fe22-4b7e-8138-8950e1b7a29c",
   "metadata": {},
   "source": [
    "**You may search for InSAR projects in your own account or download data from any user's account**\n",
    "\n",
    "- Downloading data from another user's account only requires their username and the project name.\n",
    "- It does **not** require the other user's password. "
   ]
  },
  {
   "cell_type": "code",
   "execution_count": 32,
   "id": "ef02d298-9f0b-4406-b960-ae53a3d6a5f2",
   "metadata": {},
   "outputs": [
    {
     "data": {
      "application/vnd.jupyter.widget-view+json": {
       "model_id": "9b4fc0d04ad242b7b45233c208ae3c17",
       "version_major": 2,
       "version_minor": 0
      },
      "text/plain": [
       "RadioButtons(layout=Layout(min_width='800px'), options=('Download InSAR data with any valid HyP3 username and …"
      ]
     },
     "metadata": {},
     "output_type": "display_data"
    }
   ],
   "source": [
    "hyp3_project = osl.select_parameter(\n",
    "    [\n",
    "        'Download InSAR data with any valid HyP3 username and HyP3 Project Name',\n",
    "        'Search your Projects for available InSAR data'\n",
    "    ]\n",
    ")\n",
    "display(hyp3_project)"
   ]
  },
  {
   "cell_type": "markdown",
   "id": "666b8617-4195-4d48-bad4-3dd8e4272212",
   "metadata": {},
   "source": [
    "**Select your SBAS stack's HyP3 product type**"
   ]
  },
  {
   "cell_type": "code",
   "execution_count": 33,
   "id": "e0dec948-2ea6-40a2-bebe-77434774beea",
   "metadata": {},
   "outputs": [
    {
     "name": "stdout",
     "output_type": "stream",
     "text": [
      "Select your SBAS stack's HyP3 product type\n"
     ]
    },
    {
     "data": {
      "application/vnd.jupyter.widget-view+json": {
       "model_id": "31071a661ae34100a71e559f26f7b7e9",
       "version_major": 2,
       "version_minor": 0
      },
      "text/plain": [
       "RadioButtons(layout=Layout(min_width='800px'), options=('INSAR_GAMMA', 'INSAR_ISCE_BURST'), value='INSAR_GAMMA…"
      ]
     },
     "metadata": {},
     "output_type": "display_data"
    }
   ],
   "source": [
    "product_select = osl.select_parameter(\n",
    "    [\n",
    "        'INSAR_GAMMA',\n",
    "        'INSAR_ISCE_BURST'\n",
    "    ]\n",
    ")\n",
    "print(\"Select your SBAS stack's HyP3 product type\")\n",
    "display(product_select)"
   ]
  },
  {
   "cell_type": "code",
   "execution_count": 34,
   "id": "1b2dad03-6ade-4bd2-8103-79641edcc757",
   "metadata": {},
   "outputs": [
    {
     "name": "stdin",
     "output_type": "stream",
     "text": [
      "enter the HyP3 username on the account containing an SBAS stack to download aflewandowski\n",
      "Enter the HyP3 project name AZ_PX_burst\n"
     ]
    }
   ],
   "source": [
    "product_type = product_select.value\n",
    "\n",
    "search = \"Search\" in hyp3_project.value\n",
    "if search:\n",
    "    my_hyp3_info = hyp3.my_info()\n",
    "    active_projects = dict()\n",
    "    \n",
    "    print(\"Checking all HyP3 projects for current INSAR_GAMMA jobs\")\n",
    "    for project in tqdm(my_hyp3_info['job_names']):\n",
    "            batch = Batch()\n",
    "            batch = hyp3.find_jobs(\n",
    "                name=project, \n",
    "                job_type=product_type\n",
    "            ).filter_jobs(running=False, include_expired=False)\n",
    "            if len(batch) > 0:\n",
    "                active_projects.update({batch.jobs[0].name: batch})\n",
    "    \n",
    "    if len(active_projects) > 0:\n",
    "        display(Markdown(\"<text style='color:darkred;'>Note: After selecting a project, you must select the next cell before hitting the 'Run' button or typing Shift/Enter.</text>\"))\n",
    "        display(Markdown(\"<text style='color:darkred;'>Otherwise, you will rerun this code cell.</text>\"))\n",
    "        print('\\nSelect a Project:')\n",
    "        project_select = osl.select_parameter(active_projects.keys())\n",
    "        display(project_select)\n",
    "    else:\n",
    "        print(\"Found no active projects containing InSAR products\")\n",
    "else:\n",
    "    username = input(\"enter the HyP3 username on the account containing an SBAS stack to download\")\n",
    "    project_name = input(\"Enter the HyP3 project name\")\n",
    "    batch = Batch()\n",
    "    batch = hyp3.find_jobs(\n",
    "        name=project_name, \n",
    "        job_type=product_type, \n",
    "        user_id=username\n",
    "    ).filter_jobs(running=False, include_expired=False)"
   ]
  },
  {
   "cell_type": "markdown",
   "id": "a18ba167-933d-4ffc-bca4-ed4334c0a318",
   "metadata": {},
   "source": [
    "**Select a date range of products to download:**"
   ]
  },
  {
   "cell_type": "code",
   "execution_count": 35,
   "id": "5b0413d4-266d-422a-af7d-8f0be64ce439",
   "metadata": {},
   "outputs": [
    {
     "data": {
      "text/markdown": [
       "<text style='color:darkred;'>Note: After selecting a date range, you should select the next cell before hitting the 'Run' button or typing Shift/Enter.</text>"
      ],
      "text/plain": [
       "<IPython.core.display.Markdown object>"
      ]
     },
     "metadata": {},
     "output_type": "display_data"
    },
    {
     "data": {
      "text/markdown": [
       "<text style='color:darkred;'>Otherwise, you may simply rerun this code cell.</text>"
      ],
      "text/plain": [
       "<IPython.core.display.Markdown object>"
      ]
     },
     "metadata": {},
     "output_type": "display_data"
    },
    {
     "name": "stdout",
     "output_type": "stream",
     "text": [
      "\n",
      "Select a Date Range:\n"
     ]
    },
    {
     "data": {
      "application/vnd.jupyter.widget-view+json": {
       "model_id": "b4078878550049df821800f5a307e782",
       "version_major": 2,
       "version_minor": 0
      },
      "text/plain": [
       "SelectionRangeSlider(description='Dates', index=(0, 264), layout=Layout(width='500px'), options=((' 06/22/2023…"
      ]
     },
     "metadata": {},
     "output_type": "display_data"
    }
   ],
   "source": [
    "if search:\n",
    "    jobs = active_projects[project_select.value]\n",
    "else:\n",
    "    jobs = batch\n",
    "\n",
    "display(Markdown(\"<text style='color:darkred;'>Note: After selecting a date range, you should select the next cell before hitting the 'Run' button or typing Shift/Enter.</text>\"))\n",
    "display(Markdown(\"<text style='color:darkred;'>Otherwise, you may simply rerun this code cell.</text>\"))\n",
    "print('\\nSelect a Date Range:')\n",
    "dates = osl.get_job_dates(jobs)\n",
    "date_picker = osl.gui_date_picker(dates)\n",
    "display(date_picker)"
   ]
  },
  {
   "cell_type": "markdown",
   "id": "f7ec3cd7-27fd-46b4-bf20-b2adbe14027e",
   "metadata": {},
   "source": [
    "**Save the selected date range and remove products falling outside of it:**"
   ]
  },
  {
   "cell_type": "code",
   "execution_count": 36,
   "id": "d054f377-520b-4015-9c43-6c7641d09ebd",
   "metadata": {},
   "outputs": [
    {
     "name": "stdout",
     "output_type": "stream",
     "text": [
      "Date Range: 2023-06-22 to 2024-03-10\n"
     ]
    }
   ],
   "source": [
    "date_range = osl.get_slider_vals(date_picker)\n",
    "date_range[0] = date_range[0].date()\n",
    "date_range[1] = date_range[1].date()\n",
    "print(f\"Date Range: {str(date_range[0])} to {str(date_range[1])}\")\n",
    "jobs = osl.filter_jobs_by_date(jobs, date_range)"
   ]
  },
  {
   "cell_type": "markdown",
   "id": "1b2facfa-175a-49ef-a9bb-efd7ec72f791",
   "metadata": {},
   "source": [
    "**Gather the available paths and orbit directions for the remaining products:**"
   ]
  },
  {
   "cell_type": "code",
   "execution_count": 37,
   "id": "e119636a-93a5-479f-8a33-594073104077",
   "metadata": {},
   "outputs": [
    {
     "data": {
      "text/markdown": [
       "<text style='color:darkred;'><text style='font-size:150%;'>This may take some time for projects containing many jobs...</text></text>"
      ],
      "text/plain": [
       "<IPython.core.display.Markdown object>"
      ]
     },
     "metadata": {},
     "output_type": "display_data"
    },
    {
     "data": {
      "text/markdown": [
       "<text style=color:blue><text style='font-size:175%;'>Done.</text></text>"
      ],
      "text/plain": [
       "<IPython.core.display.Markdown object>"
      ]
     },
     "metadata": {},
     "output_type": "display_data"
    }
   ],
   "source": [
    "display(Markdown(\"<text style='color:darkred;'><text style='font-size:150%;'>This may take some time for projects containing many jobs...</text></text>\"))\n",
    "osl.set_paths_orbits(jobs)\n",
    "paths = set()\n",
    "orbit_directions = set()\n",
    "for p in jobs:\n",
    "    paths.add(p.path)\n",
    "    orbit_directions.add(p.orbit_direction)\n",
    "display(Markdown(f\"<text style=color:blue><text style='font-size:175%;'>Done.</text></text>\"))"
   ]
  },
  {
   "cell_type": "markdown",
   "id": "836f377b-cb38-418c-b362-821574276a53",
   "metadata": {},
   "source": [
    "**Select a path:**\n",
    "\n",
    "- Sentinel-1 has a 12-day repeat cycle so it is not appropriate to merge interferograms across multiple orbital paths. \n",
    "- If multiple paths are represented in the SBAS stack, you select one."
   ]
  },
  {
   "cell_type": "code",
   "execution_count": 38,
   "id": "c84cfbac-454d-41c6-bde0-4f6332247674",
   "metadata": {},
   "outputs": [
    {
     "data": {
      "text/markdown": [
       "<text style='color:darkred;'>Note: After selecting a path, you must select the next cell before hitting the 'Run' button or typing Shift/Enter.</text>"
      ],
      "text/plain": [
       "<IPython.core.display.Markdown object>"
      ]
     },
     "metadata": {},
     "output_type": "display_data"
    },
    {
     "data": {
      "text/markdown": [
       "<text style='color:darkred;'>Otherwise, you will simply rerun this code cell.</text>"
      ],
      "text/plain": [
       "<IPython.core.display.Markdown object>"
      ]
     },
     "metadata": {},
     "output_type": "display_data"
    },
    {
     "name": "stdout",
     "output_type": "stream",
     "text": [
      "\n",
      "Select a Path:\n"
     ]
    },
    {
     "data": {
      "application/vnd.jupyter.widget-view+json": {
       "model_id": "32f7970c96ed417db4997a29e8b37782",
       "version_major": 2,
       "version_minor": 0
      },
      "text/plain": [
       "RadioButtons(layout=Layout(min_width='800px'), options=(27,), value=27)"
      ]
     },
     "metadata": {},
     "output_type": "display_data"
    }
   ],
   "source": [
    "display(Markdown(\"<text style='color:darkred;'>Note: After selecting a path, you must select the next cell before hitting the 'Run' button or typing Shift/Enter.</text>\"))\n",
    "display(Markdown(\"<text style='color:darkred;'>Otherwise, you will simply rerun this code cell.</text>\"))\n",
    "print('\\nSelect a Path:')\n",
    "path_choice = osl.select_parameter(paths)\n",
    "display(path_choice)"
   ]
  },
  {
   "cell_type": "markdown",
   "id": "fe8443a8-f5c0-49ea-8ff5-289892339d80",
   "metadata": {},
   "source": [
    "**Save the selected flight path/s:**"
   ]
  },
  {
   "cell_type": "code",
   "execution_count": 39,
   "id": "8faddbeb-dd8e-4019-883a-f4074e18b00e",
   "metadata": {},
   "outputs": [
    {
     "name": "stdout",
     "output_type": "stream",
     "text": [
      "Flight Path: 27\n"
     ]
    }
   ],
   "source": [
    "flight_path = path_choice.value\n",
    "if flight_path:\n",
    "    if flight_path:\n",
    "        print(f\"Flight Path: {flight_path}\")\n",
    "    else:\n",
    "        print('Flight Path: All Paths')\n",
    "else:\n",
    "    print(\"WARNING: You must select a flight path in the previous cell, then rerun this cell.\")"
   ]
  },
  {
   "cell_type": "markdown",
   "id": "1611c39d-f405-49f3-a6bc-614465518e15",
   "metadata": {},
   "source": [
    "**Select an orbit direction:**\n",
    "\n",
    "- MintPy is able to decompose 2 Line-Of-Sight (LOS) displacement time series, acquired from different orbit directions, into a vertical displacement time series\n",
    "- Each LOS time series must be processed individually"
   ]
  },
  {
   "cell_type": "code",
   "execution_count": 40,
   "id": "f8220680-f7ec-4a50-a28d-900806d6eff6",
   "metadata": {},
   "outputs": [
    {
     "name": "stdout",
     "output_type": "stream",
     "text": [
      "\n",
      "Select a Flight Direction:\n"
     ]
    },
    {
     "data": {
      "application/vnd.jupyter.widget-view+json": {
       "model_id": "4ce8abe669eb4ca2b1e180975b056584",
       "version_major": 2,
       "version_minor": 0
      },
      "text/plain": [
       "RadioButtons(description='Direction:', layout=Layout(min_width='800px'), options=('DESCENDING',), value='DESCE…"
      ]
     },
     "metadata": {},
     "output_type": "display_data"
    }
   ],
   "source": [
    "if len(orbit_directions) > 1:\n",
    "    display(Markdown(\"<text style='color:red;'>Note: After selecting a flight direction, you must select the next cell before hitting the 'Run' button or typing Shift/Enter.</text>\"))\n",
    "    display(Markdown(\"<text style='color:red;'>Otherwise, you will simply rerun this code cell.</text>\"))\n",
    "print('\\nSelect a Flight Direction:')\n",
    "direction_choice = osl.select_parameter(orbit_directions, 'Direction:')\n",
    "display(direction_choice)"
   ]
  },
  {
   "cell_type": "markdown",
   "id": "2c5ea5af-1336-4fe3-ad3b-2efd87ba1556",
   "metadata": {},
   "source": [
    "**Save the selected orbit direction:**"
   ]
  },
  {
   "cell_type": "code",
   "execution_count": 41,
   "id": "91a76efb-ada2-4d3a-8670-c3e55086da33",
   "metadata": {},
   "outputs": [
    {
     "name": "stdout",
     "output_type": "stream",
     "text": [
      "Orbit Direction: DESCENDING\n"
     ]
    }
   ],
   "source": [
    "direction = direction_choice.value\n",
    "print(f\"Orbit Direction: {direction}\")"
   ]
  },
  {
   "cell_type": "markdown",
   "id": "a2674277-2205-42ad-bfca-31864bdf8b2d",
   "metadata": {},
   "source": [
    "**Filter jobs by path and orbit direction:**"
   ]
  },
  {
   "cell_type": "code",
   "execution_count": 42,
   "id": "9c502067-f99d-494b-8a76-61c79a97695e",
   "metadata": {},
   "outputs": [
    {
     "name": "stdout",
     "output_type": "stream",
     "text": [
      "There are 22 products to download.\n"
     ]
    }
   ],
   "source": [
    "jobs = osl.filter_jobs_by_path(jobs, [flight_path])\n",
    "jobs = osl.filter_jobs_by_orbit(jobs, direction)\n",
    "print(f\"There are {len(jobs)} products to download.\")"
   ]
  },
  {
   "cell_type": "markdown",
   "id": "860a58f0-4c08-4ff9-8cf8-6b83dc0d757a",
   "metadata": {},
   "source": [
    "**Download the products, unzip them into a directory named after the product type, and delete the zip files:**"
   ]
  },
  {
   "cell_type": "code",
   "execution_count": 43,
   "id": "494360ca-c07e-46db-8a0b-d383a19df815",
   "metadata": {},
   "outputs": [
    {
     "name": "stdout",
     "output_type": "stream",
     "text": [
      "\n",
      "Project: AZ_PX_burst\n"
     ]
    },
    {
     "data": {
      "application/vnd.jupyter.widget-view+json": {
       "model_id": "6cb9a340c7594853a1b603fcdb022089",
       "version_major": 2,
       "version_minor": 0
      },
      "text/plain": [
       "  0%|          | 0/22 [00:00<?, ?it/s]"
      ]
     },
     "metadata": {},
     "output_type": "display_data"
    },
    {
     "data": {
      "application/vnd.jupyter.widget-view+json": {
       "model_id": "63e2537560c94546b2f1128f446ba38a",
       "version_major": 2,
       "version_minor": 0
      },
      "text/plain": [
       "S1_056723_IW3_20231231_20240112_VV_INT80_CF71.zip:   0%|          | 0/15063045 [00:00<?, ?it/s]"
      ]
     },
     "metadata": {},
     "output_type": "display_data"
    },
    {
     "data": {
      "application/vnd.jupyter.widget-view+json": {
       "model_id": "ac5d242a4f9047198ba6e38b277c5773",
       "version_major": 2,
       "version_minor": 0
      },
      "text/plain": [
       "S1_056723_IW3_20230728_20230809_VV_INT80_C562.zip:   0%|          | 0/15195377 [00:00<?, ?it/s]"
      ]
     },
     "metadata": {},
     "output_type": "display_data"
    },
    {
     "data": {
      "application/vnd.jupyter.widget-view+json": {
       "model_id": "22965995a95144a8aa337639c71c5fa9",
       "version_major": 2,
       "version_minor": 0
      },
      "text/plain": [
       "S1_056723_IW3_20240205_20240217_VV_INT80_2CF4.zip:   0%|          | 0/15078987 [00:00<?, ?it/s]"
      ]
     },
     "metadata": {},
     "output_type": "display_data"
    },
    {
     "data": {
      "application/vnd.jupyter.widget-view+json": {
       "model_id": "b63b6f7cf30745eca2adcffb506be36c",
       "version_major": 2,
       "version_minor": 0
      },
      "text/plain": [
       "S1_056723_IW3_20231125_20231207_VV_INT80_FC0C.zip:   0%|          | 0/15095725 [00:00<?, ?it/s]"
      ]
     },
     "metadata": {},
     "output_type": "display_data"
    },
    {
     "data": {
      "application/vnd.jupyter.widget-view+json": {
       "model_id": "b45e3f5b8a9047f5bce0ec95e956689c",
       "version_major": 2,
       "version_minor": 0
      },
      "text/plain": [
       "S1_056723_IW3_20240217_20240229_VV_INT80_D68C.zip:   0%|          | 0/15088276 [00:00<?, ?it/s]"
      ]
     },
     "metadata": {},
     "output_type": "display_data"
    },
    {
     "data": {
      "application/vnd.jupyter.widget-view+json": {
       "model_id": "e24a70d5cc3d44529f41cfe3cf87dfec",
       "version_major": 2,
       "version_minor": 0
      },
      "text/plain": [
       "S1_056723_IW3_20230809_20230821_VV_INT80_F9F8.zip:   0%|          | 0/15315000 [00:00<?, ?it/s]"
      ]
     },
     "metadata": {},
     "output_type": "display_data"
    },
    {
     "data": {
      "application/vnd.jupyter.widget-view+json": {
       "model_id": "668b19538cec4d508d30470d556dfc2c",
       "version_major": 2,
       "version_minor": 0
      },
      "text/plain": [
       "S1_056723_IW3_20230716_20230728_VV_INT80_D016.zip:   0%|          | 0/15170281 [00:00<?, ?it/s]"
      ]
     },
     "metadata": {},
     "output_type": "display_data"
    },
    {
     "data": {
      "application/vnd.jupyter.widget-view+json": {
       "model_id": "a781bafb2a9e465b8b7e1315bb7aa2dd",
       "version_major": 2,
       "version_minor": 0
      },
      "text/plain": [
       "S1_056723_IW3_20230821_20230902_VV_INT80_DE5F.zip:   0%|          | 0/15265227 [00:00<?, ?it/s]"
      ]
     },
     "metadata": {},
     "output_type": "display_data"
    },
    {
     "data": {
      "application/vnd.jupyter.widget-view+json": {
       "model_id": "087ef07636b84a3f9908a3cdb9146380",
       "version_major": 2,
       "version_minor": 0
      },
      "text/plain": [
       "S1_056723_IW3_20231008_20231020_VV_INT80_ED31.zip:   0%|          | 0/15145187 [00:00<?, ?it/s]"
      ]
     },
     "metadata": {},
     "output_type": "display_data"
    },
    {
     "data": {
      "application/vnd.jupyter.widget-view+json": {
       "model_id": "e448bf11f360487cabb1034e9f994e09",
       "version_major": 2,
       "version_minor": 0
      },
      "text/plain": [
       "S1_056723_IW3_20231020_20231101_VV_INT80_7736.zip:   0%|          | 0/15113828 [00:00<?, ?it/s]"
      ]
     },
     "metadata": {},
     "output_type": "display_data"
    },
    {
     "data": {
      "application/vnd.jupyter.widget-view+json": {
       "model_id": "904fc40a799c448cb37fb65e104351b3",
       "version_major": 2,
       "version_minor": 0
      },
      "text/plain": [
       "S1_056723_IW3_20240229_20240312_VV_INT80_C547.zip:   0%|          | 0/15121809 [00:00<?, ?it/s]"
      ]
     },
     "metadata": {},
     "output_type": "display_data"
    },
    {
     "data": {
      "application/vnd.jupyter.widget-view+json": {
       "model_id": "13682a6ecba74f059a05ebb2dbd1335e",
       "version_major": 2,
       "version_minor": 0
      },
      "text/plain": [
       "S1_056723_IW3_20231207_20231219_VV_INT80_00FE.zip:   0%|          | 0/15214055 [00:00<?, ?it/s]"
      ]
     },
     "metadata": {},
     "output_type": "display_data"
    },
    {
     "data": {
      "application/vnd.jupyter.widget-view+json": {
       "model_id": "e04a3da9dad642a396d0e063d8526253",
       "version_major": 2,
       "version_minor": 0
      },
      "text/plain": [
       "S1_056723_IW3_20231219_20231231_VV_INT80_455E.zip:   0%|          | 0/15224977 [00:00<?, ?it/s]"
      ]
     },
     "metadata": {},
     "output_type": "display_data"
    },
    {
     "data": {
      "application/vnd.jupyter.widget-view+json": {
       "model_id": "90dc0a22640f418e88414bfc850fe683",
       "version_major": 2,
       "version_minor": 0
      },
      "text/plain": [
       "S1_056723_IW3_20240124_20240205_VV_INT80_A98A.zip:   0%|          | 0/15218350 [00:00<?, ?it/s]"
      ]
     },
     "metadata": {},
     "output_type": "display_data"
    },
    {
     "data": {
      "application/vnd.jupyter.widget-view+json": {
       "model_id": "d8d54b9f25c740ed9cf8650761da9015",
       "version_major": 2,
       "version_minor": 0
      },
      "text/plain": [
       "S1_056723_IW3_20230622_20230704_VV_INT80_A8BE.zip:   0%|          | 0/15135713 [00:00<?, ?it/s]"
      ]
     },
     "metadata": {},
     "output_type": "display_data"
    },
    {
     "data": {
      "application/vnd.jupyter.widget-view+json": {
       "model_id": "aef2cfc251904df4920a07fe70901c9d",
       "version_major": 2,
       "version_minor": 0
      },
      "text/plain": [
       "S1_056723_IW3_20230926_20231008_VV_INT80_CFDE.zip:   0%|          | 0/15224663 [00:00<?, ?it/s]"
      ]
     },
     "metadata": {},
     "output_type": "display_data"
    },
    {
     "data": {
      "application/vnd.jupyter.widget-view+json": {
       "model_id": "8a4f3b672a164e51bd3fc385ac9820f9",
       "version_major": 2,
       "version_minor": 0
      },
      "text/plain": [
       "S1_056723_IW3_20230902_20230914_VV_INT80_850C.zip:   0%|          | 0/15270217 [00:00<?, ?it/s]"
      ]
     },
     "metadata": {},
     "output_type": "display_data"
    },
    {
     "data": {
      "application/vnd.jupyter.widget-view+json": {
       "model_id": "4e90e95e80514f959eb8d555730e5732",
       "version_major": 2,
       "version_minor": 0
      },
      "text/plain": [
       "S1_056723_IW3_20230704_20230716_VV_INT80_F4C6.zip:   0%|          | 0/15184152 [00:00<?, ?it/s]"
      ]
     },
     "metadata": {},
     "output_type": "display_data"
    },
    {
     "data": {
      "application/vnd.jupyter.widget-view+json": {
       "model_id": "000d20eb188547c599fa8751fe7a454a",
       "version_major": 2,
       "version_minor": 0
      },
      "text/plain": [
       "S1_056723_IW3_20231101_20231113_VV_INT80_1CAB.zip:   0%|          | 0/15152553 [00:00<?, ?it/s]"
      ]
     },
     "metadata": {},
     "output_type": "display_data"
    },
    {
     "data": {
      "application/vnd.jupyter.widget-view+json": {
       "model_id": "137b4ec60e4c4d6788617d1635ab1c74",
       "version_major": 2,
       "version_minor": 0
      },
      "text/plain": [
       "S1_056723_IW3_20231113_20231125_VV_INT80_EBC5.zip:   0%|          | 0/15275422 [00:00<?, ?it/s]"
      ]
     },
     "metadata": {},
     "output_type": "display_data"
    },
    {
     "data": {
      "application/vnd.jupyter.widget-view+json": {
       "model_id": "2d3114c92f464566a65e97ba24281701",
       "version_major": 2,
       "version_minor": 0
      },
      "text/plain": [
       "S1_056723_IW3_20230914_20230926_VV_INT80_A8A3.zip:   0%|          | 0/15234713 [00:00<?, ?it/s]"
      ]
     },
     "metadata": {},
     "output_type": "display_data"
    },
    {
     "data": {
      "application/vnd.jupyter.widget-view+json": {
       "model_id": "d99a7fef34e64c01aea0b7ffb6066738",
       "version_major": 2,
       "version_minor": 0
      },
      "text/plain": [
       "S1_056723_IW3_20240112_20240124_VV_INT80_6075.zip:   0%|          | 0/15291342 [00:00<?, ?it/s]"
      ]
     },
     "metadata": {},
     "output_type": "display_data"
    },
    {
     "name": "stdout",
     "output_type": "stream",
     "text": [
      "Extracting: /home/jovyan/AZ_burst_2/S1_056723_IW3_20231231_20240112_VV_INT80_CF71.zip\n",
      "Extracting: /home/jovyan/AZ_burst_2/S1_056723_IW3_20230728_20230809_VV_INT80_C562.zip\n",
      "Extracting: /home/jovyan/AZ_burst_2/S1_056723_IW3_20240205_20240217_VV_INT80_2CF4.zip\n",
      "Extracting: /home/jovyan/AZ_burst_2/S1_056723_IW3_20231125_20231207_VV_INT80_FC0C.zip\n",
      "Extracting: /home/jovyan/AZ_burst_2/S1_056723_IW3_20240217_20240229_VV_INT80_D68C.zip\n",
      "Extracting: /home/jovyan/AZ_burst_2/S1_056723_IW3_20230809_20230821_VV_INT80_F9F8.zip\n",
      "Extracting: /home/jovyan/AZ_burst_2/S1_056723_IW3_20230716_20230728_VV_INT80_D016.zip\n",
      "Extracting: /home/jovyan/AZ_burst_2/S1_056723_IW3_20230821_20230902_VV_INT80_DE5F.zip\n",
      "Extracting: /home/jovyan/AZ_burst_2/S1_056723_IW3_20231008_20231020_VV_INT80_ED31.zip\n",
      "Extracting: /home/jovyan/AZ_burst_2/S1_056723_IW3_20231020_20231101_VV_INT80_7736.zip\n",
      "Extracting: /home/jovyan/AZ_burst_2/S1_056723_IW3_20240229_20240312_VV_INT80_C547.zip\n",
      "Extracting: /home/jovyan/AZ_burst_2/S1_056723_IW3_20231207_20231219_VV_INT80_00FE.zip\n",
      "Extracting: /home/jovyan/AZ_burst_2/S1_056723_IW3_20231219_20231231_VV_INT80_455E.zip\n",
      "Extracting: /home/jovyan/AZ_burst_2/S1_056723_IW3_20240124_20240205_VV_INT80_A98A.zip\n",
      "Extracting: /home/jovyan/AZ_burst_2/S1_056723_IW3_20230622_20230704_VV_INT80_A8BE.zip\n",
      "Extracting: /home/jovyan/AZ_burst_2/S1_056723_IW3_20230926_20231008_VV_INT80_CFDE.zip\n",
      "Extracting: /home/jovyan/AZ_burst_2/S1_056723_IW3_20230902_20230914_VV_INT80_850C.zip\n",
      "Extracting: /home/jovyan/AZ_burst_2/S1_056723_IW3_20230704_20230716_VV_INT80_F4C6.zip\n",
      "Extracting: /home/jovyan/AZ_burst_2/S1_056723_IW3_20231101_20231113_VV_INT80_1CAB.zip\n",
      "Extracting: /home/jovyan/AZ_burst_2/S1_056723_IW3_20231113_20231125_VV_INT80_EBC5.zip\n",
      "Extracting: /home/jovyan/AZ_burst_2/S1_056723_IW3_20230914_20230926_VV_INT80_A8A3.zip\n",
      "Extracting: /home/jovyan/AZ_burst_2/S1_056723_IW3_20240112_20240124_VV_INT80_6075.zip\n"
     ]
    }
   ],
   "source": [
    "print(f\"\\nProject: {jobs.jobs[0].name}\")\n",
    "project_zips = jobs.download_files(data_path)\n",
    "for z in project_zips:\n",
    "    osl.asf_unzip(str(data_path), str(z))\n",
    "    z.unlink()"
   ]
  },
  {
   "cell_type": "markdown",
   "id": "3346ad90-3426-480a-ae36-29366788e45d",
   "metadata": {},
   "source": [
    "---\n",
    "\n",
    "## 3. Confirm Presence of a DEM, Azimuth Angle Map, and Incidence Angle Map\n",
    "\n",
    "- These are optional addon products for HyP3, which are necessary for MintPy\n",
    "    - Incidence angle maps are included with HyP3 jobs when the `Include Look Vectors` option is selected.\n",
    "    - DEMs are included with HyP3 jobs when the `Include DEM` option is selected\n",
    "- This is an optional addon product for HyP3, which is necessary for MintPy if running the correct_SET (Solid Earth Tides) step\n",
    "    - Azimuth angle maps are included with HyP3 jobs when the `Include Look Vectors` option is selected\n",
    "\n",
    "**All of the above mentioned files will be included in an InSAR project if Set MintPy Options is selected when adding InSAR jobs to a project in ASF-Search (Vertex)**"
   ]
  },
  {
   "cell_type": "code",
   "execution_count": 44,
   "id": "e9799fd1-b252-4515-8b23-40780376b58f",
   "metadata": {},
   "outputs": [
    {
     "name": "stdout",
     "output_type": "stream",
     "text": [
      "Success: Found at least 1 DEM.\n",
      "Success: Found at least 1 Azimuth Angle Map.\n",
      "Success: Found at least 1 Incidence Angle Map.\n"
     ]
    }
   ],
   "source": [
    "dems = list(data_path.glob('*/*dem*.tif'))\n",
    "az_angle_maps = list(data_path.glob('*/*lv_phi*.tif'))\n",
    "inc_angle_maps = list(data_path.glob('*/*lv_theta*.tif'))\n",
    "\n",
    "if len(dems) > 0:\n",
    "    print(\"Success: Found at least 1 DEM.\")\n",
    "else:\n",
    "    raise FileNotFoundError(\"Failed to find at least 1 DEM. \\\n",
    "    \\nYou will not be able to successfully run a MintPy time-series unless you reorder your HyP3 project \\\n",
    "with DEMS or provide one from another source.\")\n",
    "    \n",
    "if len(az_angle_maps) > 0:\n",
    "    print(\"Success: Found at least 1 Azimuth Angle Map.\")\n",
    "else:\n",
    "    raise FileNotFoundError(\"Failed to find at least 1 Azimuth Angle Map. \\\n",
    "    \\nYou will not be able to successfully run a MintPy time-series unless your reorder your HyP3 project \\\n",
    "with 'Include Look Vectors' option selected.\")\n",
    "    \n",
    "if len(inc_angle_maps) > 0:\n",
    "    print(\"Success: Found at least 1 Incidence Angle Map.\")\n",
    "else:\n",
    "    raise FileNotFoundError(\"Failed to find at least 1 Incidence Angle Map. \\\n",
    "    \\nYou will not be able to successfully run a MintPy time-series unless your reorder your HyP3 project \\\n",
    "with 'Include Inc. Angle Map' option selected.\")"
   ]
  },
  {
   "cell_type": "markdown",
   "id": "48e233a7-32fe-4404-a536-a4b2827460b8",
   "metadata": {},
   "source": [
    "---\n",
    "## 4. Subset the Stack\n",
    "\n",
    "**Project all tiffs to Predominant UTM**"
   ]
  },
  {
   "cell_type": "code",
   "execution_count": 45,
   "id": "5d2d85ad-a4c3-48ae-b0ab-3e2c307464c4",
   "metadata": {},
   "outputs": [],
   "source": [
    "dems.sort()\n",
    "burst = 'BURST' in product_type\n",
    "if not burst:\n",
    "    epsgs = util.get_projections(dems)\n",
    "    predominant_epsg = None if len(epsgs) == 1 else max(epsgs, key=epsgs.get)\n",
    "    \n",
    "    if predominant_epsg:\n",
    "        for pth in dems:\n",
    "            src_SRS = util.get_projection(str(pth))\n",
    "            res = util.get_res(pth)\n",
    "            if src_SRS != predominant_epsg:\n",
    "                res = util.get_res(pth)\n",
    "                no_data_val = util.get_no_data_val(pth)\n",
    "        \n",
    "                temp = pth.parent/f\"temp_{pth.stem}.tif\"\n",
    "                pth.rename(temp)\n",
    "    \n",
    "                warp_options = {\n",
    "                    \"dstSRS\":f\"EPSG:{predominant_epsg}\", \"srcSRS\":f\"EPSG:{src_SRS}\",\n",
    "                    \"targetAlignedPixels\":True,\n",
    "                    \"xRes\":res, \"yRes\":res,\n",
    "                    \"dstNodata\": no_data_val\n",
    "                }\n",
    "                gdal.Warp(str(pth), str(temp), **warp_options)\n",
    "                temp.unlink()\n"
   ]
  },
  {
   "cell_type": "markdown",
   "id": "cc8c848d-3ae3-4b04-aef5-51d346cd88d9",
   "metadata": {},
   "source": [
    "**Determine the maximum and common extents of the stack and plot an Area-of_Interest Selector:**"
   ]
  },
  {
   "cell_type": "code",
   "execution_count": 46,
   "id": "cde455e0-be45-4dd5-b48d-1fec72086c7c",
   "metadata": {},
   "outputs": [
    {
     "name": "stdout",
     "output_type": "stream",
     "text": [
      "[-12603791.93486395, 3937773.1110669537, -12487082.323323049, 3985795.479125295]\n",
      "[-12603305.819274502, 3938167.5317569375, -12487565.016214723, 3985500.461561431]\n"
     ]
    },
    {
     "data": {
      "application/vnd.jupyter.widget-view+json": {
       "model_id": "4839fda38e2f47c79d3a0e26c545e424",
       "version_major": 2,
       "version_minor": 0
      },
      "image/png": "[encoded data removed]",
      "text/html": [
       "\n",
       "            <div style=\"display: inline-block;\">\n",
       "                <div class=\"jupyter-widgets widget-label\" style=\"text-align: center;\">\n",
       "                    Figure\n",
       "                </div>\n",
       "                <img src='data:image/png;base64,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' width=1000.0/>\n",
       "            </div>\n",
       "        "
      ],
      "text/plain": [
       "Canvas(toolbar=Toolbar(toolitems=[('Home', 'Reset original view', 'home', 'home'), ('Back', 'Back to previous …"
      ]
     },
     "metadata": {},
     "output_type": "display_data"
    }
   ],
   "source": [
    "max_extents = osl.get_max_extents(dems)\n",
    "xmin, ymin, xmax, ymax = transform_bounds(int(osl.get_projection(str(dems[0]))), 3857, *max_extents)\n",
    "max_extents = [xmin, ymin, xmax, ymax]\n",
    "\n",
    "common_extents = osl.get_common_coverage_extents(dems)\n",
    "xmin, ymin, xmax, ymax = transform_bounds(int(osl.get_projection(str(dems[0]))), 3857, *common_extents)\n",
    "common_extents = [xmin, ymin, xmax, ymax]\n",
    "\n",
    "print(max_extents)\n",
    "print(common_extents)\n",
    "\n",
    "aoi = osl.AOI_Selector(max_extents, common_extents, figsize=(10, 8))"
   ]
  },
  {
   "cell_type": "markdown",
   "id": "a13ad4d8-6550-45bc-8a09-31e644ee6a8e",
   "metadata": {},
   "source": [
    "**Convert the subset corner coordinates from Web-Mercator back to the input data's EPSG:** "
   ]
  },
  {
   "cell_type": "code",
   "execution_count": 47,
   "id": "7b10b607-8d3e-4b49-a029-ebb0a770fa1f",
   "metadata": {},
   "outputs": [
    {
     "name": "stdout",
     "output_type": "stream",
     "text": [
      "AOI Corner Coordinates:\n",
      "upper left corner: [294587.8812811177, 3727763.9098258275]\n",
      "lower right corner: [390679.4353182623, 3687927.189110276]\n"
     ]
    }
   ],
   "source": [
    "try:\n",
    "    xmin, ymin, xmax, ymax = transform_bounds(3857, \n",
    "                                          int(osl.get_projection(str(dems[0]))), \n",
    "                                          *[aoi.x1, aoi.y1, aoi.x2, aoi.y2])\n",
    "    ul = [xmin, ymax]\n",
    "    lr = [xmax, ymin]\n",
    "    print(f\"AOI Corner Coordinates:\")\n",
    "    print(f\"upper left corner: {ul}\")\n",
    "    print(f\"lower right corner: {lr}\")\n",
    "except TypeError:\n",
    "    print('TypeError')\n",
    "    display(Markdown(f'<text style=color:red>This error may occur if an AOI was not selected.</text>'))\n",
    "    display(Markdown(f'<text style=color:red>Note that the square tool icon in the AOI selector menu is <b>NOT</b> the selection tool. It is the zoom tool.</text>'))"
   ]
  },
  {
   "cell_type": "markdown",
   "id": "c110de7d-d93d-40fa-ae3e-969c30088730",
   "metadata": {},
   "source": [
    "**Crop the stack to the AOI:**"
   ]
  },
  {
   "cell_type": "code",
   "execution_count": 48,
   "id": "5677b775-aa86-4db0-bf17-4996aebbf250",
   "metadata": {},
   "outputs": [],
   "source": [
    "fnames = list(data_path.glob('*/*.tif'))\n",
    "fnames = [f for f in fnames if osl.get_projection(f) == osl.get_projection(dems[0])]\n",
    "fnames.sort()\n",
    "\n",
    "for i, fname in enumerate(fnames):\n",
    "    clip = fname.parent/f\"{fname.stem}_clip.tif\"\n",
    "    gdal.Translate(destName=str(clip), srcDS=str(fname), projWin=[ul[0], ul[1], lr[0], lr[1]])\n",
    "    fname.unlink() "
   ]
  },
  {
   "cell_type": "markdown",
   "id": "da7df9d9-04bf-494e-b162-8cfa7416ba4e",
   "metadata": {},
   "source": [
    "**Remove any subset scenes containing no data:**"
   ]
  },
  {
   "cell_type": "code",
   "execution_count": 49,
   "id": "f8737133-8480-44d7-aeea-f7a7719f7e25",
   "metadata": {},
   "outputs": [
    {
     "name": "stdout",
     "output_type": "stream",
     "text": [
      "No Geotiffs were removed\n"
     ]
    }
   ],
   "source": [
    "fnames = list(data_path.glob('*/*.tif'))\n",
    "fnames = [str(f) for f in fnames]\n",
    "fnames.sort()\n",
    "\n",
    "removed = []\n",
    "for f in fnames:\n",
    "    raster = gdal.Open(f)\n",
    "    if raster:\n",
    "        band = raster.ReadAsArray()\n",
    "        if np.count_nonzero(band) < 1:\n",
    "            Path(f).unlink()\n",
    "            removed.append(f)\n",
    "\n",
    "if len(removed) == 0:\n",
    "    print(\"No Geotiffs were removed\")\n",
    "else:\n",
    "    print(f\"{len(removed)} GeoTiffs removed:\")\n",
    "    for f in removed:\n",
    "        print(f)"
   ]
  },
  {
   "cell_type": "code",
   "execution_count": null,
   "id": "20888840-21ea-4496-b4f4-ad183f9ef7c7",
   "metadata": {},
   "outputs": [],
   "source": []
  }
 ],
 "metadata": {
  "kernelspec": {
   "display_name": "Python [conda env:.local-osl_mintpy]",
   "language": "python",
   "name": "conda-env-.local-osl_mintpy-py"
  },
  "language_info": {
   "codemirror_mode": {
    "name": "ipython",
    "version": 3
   },
   "file_extension": ".py",
   "mimetype": "text/x-python",
   "name": "python",
   "nbconvert_exporter": "python",
   "pygments_lexer": "ipython3",
   "version": "3.9.0"
  }
 },
 "nbformat": 4,
 "nbformat_minor": 5
}
