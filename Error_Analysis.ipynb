{
 "cells": [
  {
   "attachments": {},
   "cell_type": "markdown",
   "id": "da473bda-7edb-45bb-b950-88cb82ea024c",
   "metadata": {},
   "source": [
    "# Error Analysis\n",
    "\n",
    "*Author: Alex Lewandowski; Alaska Satellite Facility*\n",
    "\n",
    "This notebook assumes that you have a completed MintPy time series analysis.\n",
    "\n",
    "---\n",
    "## 0. Import Required Software\n",
    "\n"
   ]
  },
  {
   "cell_type": "code",
   "execution_count": null,
   "id": "9e7aa6a8-9b52-4ee7-9cdb-a390b042cc18",
   "metadata": {},
   "outputs": [],
   "source": [
    "from pathlib import Path\n",
    "import sys\n",
    "\n",
    "from ipyfilechooser import FileChooser\n",
    "import ipywidgets as widgets\n",
    "from ipywidgets import Layout\n",
    "import opensarlab_lib as osl\n",
    "\n",
    "current = Path(\"..\").resolve()\n",
    "sys.path.append(str(current))\n",
    "import util.gps as gps\n",
    "import util.util as util"
   ]
  },
  {
   "cell_type": "markdown",
   "id": "b0fd0c96-4e93-47dc-8bd1-d4274a0cc525",
   "metadata": {},
   "source": [
    "---\n",
    "## 1. Select your project's custom config file\n",
    "\n",
    "- This is located in your project's `MintPy` directory\n",
    "- It is a text file named after your project\n",
    "  - `path/to/MinPy/my_project.txt`"
   ]
  },
  {
   "cell_type": "code",
   "execution_count": null,
   "id": "a9ea6de3-c379-4336-b1a0-200ca09e45f5",
   "metadata": {},
   "outputs": [],
   "source": [
    "path = Path.home()\n",
    "fc = FileChooser(path)\n",
    "print(\"Select your project's MintPy directory:\")\n",
    "display(fc)"
   ]
  },
  {
   "cell_type": "code",
   "execution_count": null,
   "id": "22a3bc17-a412-49d1-a379-aa3631443138",
   "metadata": {},
   "outputs": [],
   "source": [
    "config_path = Path(fc.selected)\n",
    "mint_path = config_path.parent\n",
    "plot_path = mint_path / \"plots\""
   ]
  },
  {
   "cell_type": "markdown",
   "id": "b58dbbbf-72e9-4dc3-928f-2398f7a5bd27",
   "metadata": {},
   "source": [
    "## 1. Spatial Coherence\n",
    "\n",
    "Spatial Coherence measures phase consistency across neighborhoods of pixels in each interferogram in the stack. A high level of spatial coherence shows that there was little phase change across adjacent pixels. "
   ]
  },
  {
   "cell_type": "code",
   "execution_count": null,
   "id": "e11f4033-55b6-4ef5-90bb-772f7dc927f1",
   "metadata": {},
   "outputs": [],
   "source": [
    "%matplotlib widget\n",
    "scp_args = f\"{mint_path}/avgSpatialCoh.h5 --dpi 600 --figsize 15 15 --outfile {plot_path}/avg_spatial_coh.png\"\n",
    "view.main(scp_args.split())"
   ]
  },
  {
   "cell_type": "markdown",
   "id": "399102a3-72fb-4c02-a3b4-2bf48cdbe7c6",
   "metadata": {},
   "source": [
    "## 2. Temporal Coherence\n",
    "\n",
    "Temporal coherence is a measure of phase consistency for a pixel across the time series. A high level of temporal coherence indicates that phase changes in a pixel were steady, providing a measure of reliability. \n",
    "\n",
    "- [0, 1] range\n",
    "- 0 = unreliable, 1 = reliable\n",
    "- recommended threshold for dense time series: 0.7 (Yunjun et al, 2019)"
   ]
  },
  {
   "cell_type": "code",
   "execution_count": null,
   "id": "9541b96a-a135-47fd-bfdb-a0ddcaccbbdb",
   "metadata": {},
   "outputs": [],
   "source": [
    "%matplotlib widget\n",
    "scp_args = f\"{mint_path}/temporalCoherence.h5 --dpi 600 --figsize 15 15 --outfile {plot_path}/temporal_coh.png\"\n",
    "view.main(scp_args.split())"
   ]
  },
  {
   "cell_type": "markdown",
   "id": "64c84cec-9db3-4db0-81f6-e9629f0047bc",
   "metadata": {},
   "source": [
    "---\n",
    "## 3. Velocity error analysis\n",
    "\n",
    "The estimated velocity also comes with an expression of unecrtainty which is simply based on the goodness of fit while fitting a linear model to the time-series. This quantity is saved in \"velocity.h5\" under the velocityStd dataset. \n",
    "\n",
    "- Velocity error increases with distance from the reference point\n",
    "- Can indicate atmospheric delay"
   ]
  },
  {
   "cell_type": "code",
   "execution_count": null,
   "id": "1a84aa3f-a9cb-4bff-8c6d-503ffd5cc832",
   "metadata": {},
   "outputs": [],
   "source": [
    "%matplotlib widget\n",
    "scp_args = f'{mint_path}/velocity.h5 velocityStd -v 0 1 --dpi 600 --figsize 15 15 --outfile {plot_path}/velocity_err.png'\n",
    "view.main(scp_args.split())"
   ]
  },
  {
   "cell_type": "markdown",
   "id": "e4d913ff-8e05-4a47-a2ae-615e59cd0c97",
   "metadata": {},
   "source": [
    "---\n",
    "## 4. Compare InSAR time-series with GPS time-series in LOS direction\n",
    "\n",
    "- http://geodesy.unr.edu/NGLStationPages/gpsnetmap/GPSNetMap.html\n",
    "- http://geodesy.unr.edu/NGLStationPages/DataHoldings.txt\n",
    "\n",
    "**Access University of Nevada, Reno GPS station metadata and select a list of available stations** \n",
    "\n",
    "Ignore stations:\n",
    "- outside the AOI\n",
    "- outside the time range of the time series\n",
    "- on no-data pixels\n",
    "\n",
    "Two GPS stations are required for LOS conversion"
   ]
  },
  {
   "cell_type": "code",
   "execution_count": null,
   "id": "899fce78-1fae-4676-9233-f5c9aff8c26a",
   "metadata": {},
   "outputs": [],
   "source": [
    "# Download DataHolding.txt and write to GPS_stations.csv\n",
    "# in MintPy directory\n",
    "gps.create_unr_gps_csv(mint_path)\n",
    "\n",
    "# Finds stations in the AOI and time span of the time series.\n",
    "# Ignore stations with no time series velocity data\n",
    "gps_stations = gps.get_gps_stations(mint_path)\n",
    "gps_stations"
   ]
  },
  {
   "cell_type": "markdown",
   "id": "0644dde1-c296-4a6b-90c2-0a4bef7402e7",
   "metadata": {},
   "source": [
    "**Create interactive plot showing GPS station information**\n",
    "\n",
    "Hover over GPS stations to view their details"
   ]
  },
  {
   "cell_type": "code",
   "execution_count": null,
   "id": "79e77bfb-19e8-4c08-b175-0bb58ec864f6",
   "metadata": {},
   "outputs": [],
   "source": [
    "if gps_stations:\n",
    "    gps_dict = gps.get_gps_dict(mint_path, gps_stations)\n",
    "    velocity_png_pth = plot_path / \"velocity.png\"\n",
    "    print(\"Hover over GPS stations to view their details\")\n",
    "    gps.gps_station_info_plot(mint_path, velocity_png_pth, gps_stations, gps_dict)\n"
   ]
  },
  {
   "cell_type": "markdown",
   "id": "bd9aba15-0740-4280-86b3-750974764b8b",
   "metadata": {},
   "source": [
    "**Select a reference GPS station** "
   ]
  },
  {
   "cell_type": "code",
   "execution_count": null,
   "id": "00b7faac-cd4b-4b7c-a0b4-a6cca7190cd1",
   "metadata": {
    "scrolled": true
   },
   "outputs": [],
   "source": [
    "gps_station = widgets.RadioButtons(\n",
    "    options=gps_stations,\n",
    "    description='',\n",
    "    disabled=False,\n",
    "    layout=Layout(min_width='800px'))\n",
    "\n",
    "print(\"Select a GPS station\")\n",
    "display(gps_station)"
   ]
  },
  {
   "cell_type": "markdown",
   "id": "337fa8c9-fd2f-485e-a135-0bdf7f88a9ef",
   "metadata": {},
   "source": [
    "**Run the LOS comparison with the selected reference GPS station**\n",
    "\n",
    "You can select different reference stations and rerun the following code cell multiple times to see results referenced to different areas of your time series. "
   ]
  },
  {
   "cell_type": "code",
   "execution_count": null,
   "id": "c8b17aa3-df06-4280-91f3-e0b3f44b9957",
   "metadata": {},
   "outputs": [],
   "source": [
    "%matplotlib widget\n",
    "\n",
    "vmin, vmax = util.get_mintpy_vmin_vmax(mint_path/'velocity.h5')\n",
    "\n",
    "scp_args = f\"{mint_path}/velocity.h5 velocity -v {vmin} {vmax} --show-gps --ref-gps {gps_station.value} --gps-comp enu2los --gps-label --figsize 9 9\"\n",
    "with osl.work_dir(mint_path):\n",
    "    view.main(scp_args.split())"
   ]
  },
  {
   "cell_type": "code",
   "execution_count": null,
   "id": "b03f01c8-a9ae-477e-9263-5375fa1618af",
   "metadata": {},
   "outputs": [],
   "source": []
  },
  {
   "cell_type": "code",
   "execution_count": null,
   "id": "b9226a25-b0bd-4a97-8b22-8d95b1b592ae",
   "metadata": {},
   "outputs": [],
   "source": []
  }
 ],
 "metadata": {
  "kernelspec": {
   "display_name": "Python [conda env:.local-osl_mintpy]",
   "language": "python",
   "name": "conda-env-.local-osl_mintpy-py"
  },
  "language_info": {
   "codemirror_mode": {
    "name": "ipython",
    "version": 3
   },
   "file_extension": ".py",
   "mimetype": "text/x-python",
   "name": "python",
   "nbconvert_exporter": "python",
   "pygments_lexer": "ipython3",
   "version": "3.9.0"
  }
 },
 "nbformat": 4,
 "nbformat_minor": 5
}
