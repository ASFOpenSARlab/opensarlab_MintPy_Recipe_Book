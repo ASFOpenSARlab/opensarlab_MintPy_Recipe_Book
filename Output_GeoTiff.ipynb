{
 "cells": [
  {
   "cell_type": "markdown",
   "id": "842af782-0b88-4fca-921c-9f79e2c759dd",
   "metadata": {},
   "source": [
    "# Output Results to GeoTiff\n",
    "\n",
    "*Author: Alex Lewandowski; Alaska Satellite Facility*\n",
    "\n",
    "Output the results of your MintPy Time Series to GeoTiff\n",
    "\n"
   ]
  },
  {
   "cell_type": "code",
   "execution_count": null,
   "id": "8cde9dcb-a7ce-459d-ae9a-2ba6e61adb69",
   "metadata": {},
   "outputs": [],
   "source": [
    "from ipyfilechooser import FileChooser\n",
    "import os\n",
    "from pathlib import Path\n",
    "import re\n",
    "from typing import Union\n",
    "\n",
    "\n",
    "from affine import Affine\n",
    "\n",
    "from rasterio.crs import CRS\n",
    "import h5py\n",
    "import mintpy.utils.readfile\n",
    "import mintpy.view\n",
    "import numpy as np\n",
    "from osgeo import gdal\n",
    "import rasterio\n",
    "import rioxarray as rxr\n",
    "from tqdm.notebook import tqdm\n",
    "import xarray as xr"
   ]
  },
  {
   "cell_type": "markdown",
   "id": "5ebb8d04-d0a8-4c6f-97d8-ebd58aabab6e",
   "metadata": {},
   "source": [
    "---\n",
    "## 1. Select your project's custom config file\n",
    "\n",
    "- This is located in your project's `MintPy` directory\n",
    "- It is a text file named after your project\n",
    "  - `path/to/MinPy/my_project.txt`"
   ]
  },
  {
   "cell_type": "code",
   "execution_count": null,
   "id": "2942f23e-60f9-4d99-8357-7b2ab5eb07e8",
   "metadata": {},
   "outputs": [],
   "source": [
    "path = Path.home()\n",
    "fc = FileChooser(path)\n",
    "print(\"Select your project's MintPy directory:\")\n",
    "display(fc)"
   ]
  },
  {
   "cell_type": "markdown",
   "id": "e9de6112-e508-4ca4-ada5-69776a3ec941",
   "metadata": {},
   "source": [
    "**Define paths**"
   ]
  },
  {
   "cell_type": "code",
   "execution_count": null,
   "id": "5ab2b462-44e2-4791-8feb-7faa16b4bf89",
   "metadata": {},
   "outputs": [],
   "source": [
    "config_path = Path(fc.selected)\n",
    "mint_path = config_path.parent\n",
    "inputs_path = mint_path/ 'inputs'\n",
    "ifgramstack = inputs_path / 'ifgramStack.h5'\n",
    "geotiff_path = mint_path/'GeoTiffs'\n",
    "ts_demErr_path = list(mint_path.glob('timeseries*_demErr.h5'))[0]\n",
    "disp_path = geotiff_path / 'displacement_maps'\n",
    "unwrapped_path = disp_path / 'unwrapped'\n",
    "wrapped_path = disp_path / 'wrapped'\n",
    "\n",
    "wrapped_path.mkdir(exist_ok=True)"
   ]
  },
  {
   "cell_type": "markdown",
   "id": "b53da7d8-258e-4656-a6af-b900fe856311",
   "metadata": {},
   "source": [
    "**Create a list dates for all timesteps**"
   ]
  },
  {
   "cell_type": "code",
   "execution_count": null,
   "id": "8cd63c9c-fcaa-40dd-92f2-8f7078bfab20",
   "metadata": {},
   "outputs": [],
   "source": [
    "ifgramstack = inputs_path/\"ifgramStack.h5\"\n",
    "\n",
    "with h5py.File(ifgramstack, \"r\") as f:\n",
    "    dates = f[\"date\"][()]\n",
    "    dates = list(set([d.decode(\"utf-8\") for insar in dates for d in insar]))\n",
    "    dates.sort()"
   ]
  },
  {
   "cell_type": "markdown",
   "id": "e4825e58-9a7b-41c4-8449-ab6960995e42",
   "metadata": {},
   "source": [
    "**Save the full displacement timeseries**"
   ]
  },
  {
   "cell_type": "code",
   "execution_count": null,
   "id": "df413ca9-62b4-4ffa-96b6-f229c284799f",
   "metadata": {},
   "outputs": [],
   "source": [
    "ds = f'{dates[0]}_{dates[-1]}'\n",
    "!save_gdal.py $ts_demErr_path -d $ds --of GTIFF -o $geotiff_path/\"save_gdal_ts_demErr.tif\""
   ]
  },
  {
   "cell_type": "markdown",
   "id": "1d09d01f-ec7a-4f89-90b7-4f1db095364e",
   "metadata": {},
   "source": [
    "**Save the unwrapped displacement GeoTiffs**"
   ]
  },
  {
   "cell_type": "code",
   "execution_count": null,
   "id": "cbfa2c59-51ef-4912-a125-559e7c30e1e6",
   "metadata": {},
   "outputs": [],
   "source": [
    "_, unw_info = mintpy.utils.readfile.read(ifgramstack)\n",
    "\n",
    "geotrans = (\n",
    "    float(unw_info['X_FIRST']),\n",
    "    float(unw_info['X_STEP']),\n",
    "    0.0, \n",
    "    float(unw_info['Y_FIRST']), \n",
    "    0.0, \n",
    "    float(unw_info['Y_STEP'])\n",
    ")\n",
    "geotrans = Affine.from_gdal(*geotrans)\n",
    "\n",
    "crs = CRS.from_epsg(unw_info['EPSG'])\n",
    "\n",
    "for i, d in enumerate(tqdm(dates)):\n",
    "    date_range = f'{dates[0]}_{dates[i]}'\n",
    "    cmd = f'view.py {ts_demErr_path} {date_range} --notitle --notick --noaxis'\n",
    "    data, _, _ = mintpy.view.prep_slice(cmd)\n",
    "    data = data / 100 # cm -> meters\n",
    "        \n",
    "\n",
    "    with rasterio.open(f'{unwrapped_path}/{date_range}_{ts_demErr_path.stem}_unwrapped.tif', 'w', driver='GTiff',\n",
    "                  height = data.shape[0], width = data.shape[1],\n",
    "                  count=1, dtype=str(data.dtype),\n",
    "                  crs=crs,\n",
    "                  transform=geotrans,\n",
    "                  nodata=np.nan) as ds:\n",
    "        \n",
    "        ds.write(data.astype(rasterio.float32), 1)"
   ]
  },
  {
   "cell_type": "markdown",
   "id": "e549867b-f10a-45df-b570-00f5d7a5d786",
   "metadata": {},
   "source": [
    "**Write a function to add a color ramp to single band GeoTiff**"
   ]
  },
  {
   "cell_type": "code",
   "execution_count": null,
   "id": "caba04f1-c3c7-4e84-a67f-fb47b08ca1a0",
   "metadata": {},
   "outputs": [],
   "source": [
    "def colorize_wrapped_insar(tif_path: Union[str, os.PathLike]):\n",
    "    \"\"\"\n",
    "    Blue: 0 and 2π\n",
    "    Red: π/2\n",
    "    Yellow: π\n",
    "    Green 3/2π\n",
    "    \"\"\"\n",
    "    ds = gdal.Open(str(tif_path), 1)\n",
    "    band = ds.GetRasterBand(1)\n",
    "\n",
    "    # create color table\n",
    "    colors = gdal.ColorTable()\n",
    "    \n",
    "    colors.CreateColorRamp(0, (0, 0, 255),  64, (255, 0, 0)) \n",
    "    colors.CreateColorRamp(64, (255, 0, 0),   128, (255, 255, 0))\n",
    "    colors.CreateColorRamp(128, (255, 255, 0), 192, (0, 255, 0))\n",
    "    colors.CreateColorRamp(192, (0, 255, 0),   255, (0, 0, 255))\n",
    "\n",
    "    # set color table and color interpretation\n",
    "    band.SetRasterColorTable(colors)\n",
    "    band.SetRasterColorInterpretation(gdal.GCI_PaletteIndex)\n",
    "\n",
    "    # close and save file\n",
    "    del band, ds"
   ]
  },
  {
   "cell_type": "markdown",
   "id": "b0f7116f-f34e-434e-bc09-f04543b67172",
   "metadata": {},
   "source": [
    "**Collect paths to unwrapped displacement maps**"
   ]
  },
  {
   "cell_type": "code",
   "execution_count": null,
   "id": "1099018e-98e9-46f6-a1ef-e312c510e2b5",
   "metadata": {},
   "outputs": [],
   "source": [
    "unwrapped_paths = list(unwrapped_path.rglob('*_unwrapped.tif'))\n",
    "unwrapped_paths"
   ]
  },
  {
   "cell_type": "markdown",
   "id": "e97f624a-351b-40c6-b07b-5d2c78e25d63",
   "metadata": {},
   "source": [
    "**Generate the wrapped interferogram GeoTiffs**\n",
    "\n",
    "- Please note that the wrapped range used below is currently under review and may not yet correctly correspond to the Sentinel-1 wavelength "
   ]
  },
  {
   "cell_type": "code",
   "execution_count": null,
   "id": "b8282b7d-e09a-4745-b5fa-f0a8f7ce3010",
   "metadata": {},
   "outputs": [],
   "source": [
    "sentinel_c_band_lambda = 5.5465763\n",
    "\n",
    "for unw_path in tqdm(unwrapped_paths):\n",
    "    date_range_regex = '(?<=/unwrapped/)\\d{8}_\\d{8}'\n",
    "    date_range = re.search(date_range_regex, str(unw_path)).group(0)\n",
    "    \n",
    "    with rxr.open_rasterio(unw_path, masked=True).squeeze() as ds:\n",
    "        # convert unwrapped raster to radians\n",
    "        with xr.set_options(keep_attrs=True):\n",
    "            unw_rad = (ds * -4 * np.pi) / sentinel_c_band_lambda\n",
    "          \n",
    "    wrap_range = [\n",
    "        (-2.8 * -4 * np.pi) / (sentinel_c_band_lambda * 100),\n",
    "        (2.8 * -4 * np.pi) / (sentinel_c_band_lambda * 100)\n",
    "    ]\n",
    "       \n",
    "    # wrap the interferogram\n",
    "    with xr.set_options(keep_attrs=True):\n",
    "        wrap = mintpy.utils.utils0.wrap(unw_rad, wrap_range=wrap_range)\n",
    "        \n",
    "    # collect crs and transform\n",
    "    with rasterio.open(unw_path, 'r', driver='GTiff') as ds:\n",
    "        unw_crs = ds.read_crs()\n",
    "        unw_transform = ds.transform\n",
    "    \n",
    "    # Save wrapped interferogram as a GeoTiff\n",
    "    wrp_path = wrapped_path/f'{date_range}_{ts_demErr_path.stem}_wrapped_unscaled.tif'\n",
    "    with rasterio.open(wrp_path, 'w', driver='GTiff',\n",
    "                      height = wrap.shape[0], width = wrap.shape[1],\n",
    "                      count=1, dtype=str(wrap.dtype),\n",
    "                      crs=crs,\n",
    "                      transform=geotrans,\n",
    "                      nodata=np.nan) as ds:\n",
    "        ds.write(wrap.astype(rasterio.float32), 1)\n",
    "        \n",
    "    # scale wrapped interferogram (0 to 255)\n",
    "    scaled_path = wrapped_path/f'{wrp_path.stem.split(\"_unscaled\")[0]}_scaled.tif'\n",
    "    !gdal_translate -of GTiff -scale -ot BYTE $wrp_path $scaled_path\n",
    "    wrp_path.unlink()\n",
    "    \n",
    "    # add color ramp\n",
    "    colorize_wrapped_insar(scaled_path)\n",
    "    \n",
    "    # convert to 3-band rgb\n",
    "    three_band_path = wrapped_path/f'{scaled_path.stem.split(\"_scaled\")[0]}.tif'\n",
    "    !gdal_translate -of GTiff -expand rgb $scaled_path $three_band_path\n",
    "    scaled_path.unlink()"
   ]
  },
  {
   "cell_type": "markdown",
   "id": "f49174f3-0515-48db-a620-6969c90e1958",
   "metadata": {},
   "source": [
    "**Save the temporal coherence geotiff**"
   ]
  },
  {
   "cell_type": "code",
   "execution_count": null,
   "id": "d4ee5629-eb93-4fad-acd4-d8b968aeae69",
   "metadata": {},
   "outputs": [],
   "source": [
    "!save_gdal.py $mint_path/temporalCoherence.h5 --of GTIFF -o $geotiff_path/TemporalCoherence.tif"
   ]
  },
  {
   "cell_type": "markdown",
   "id": "f254355f-b1d4-48cc-90ed-c4c6f5794675",
   "metadata": {},
   "source": [
    "**Save the average spatial coherence geotiff**"
   ]
  },
  {
   "cell_type": "code",
   "execution_count": null,
   "id": "7abcb4a2-1251-454a-a33e-c71120044ec9",
   "metadata": {},
   "outputs": [],
   "source": [
    "!save_gdal.py $mint_path/avgSpatialCoh.h5 --of GTIFF -o $geotiff_path/avgSpatialCoh.tif"
   ]
  },
  {
   "cell_type": "markdown",
   "id": "7a21a0cf-8264-48e6-928e-b4e175054166",
   "metadata": {},
   "source": [
    "**Save the velocity geotiff**"
   ]
  },
  {
   "cell_type": "code",
   "execution_count": null,
   "id": "6e0bc3f5-7e2f-4fc1-bbec-c542120bb499",
   "metadata": {},
   "outputs": [],
   "source": [
    "velocity_path = mint_path / 'velocity.h5'\n",
    "era_corr_velocity_path = mint_path / 'velocityERA5.h5'\n",
    "velocity_path = era_corr_velocity_path if era_corr_velocity_path.exists() else velocity_path\n",
    "vel_tiff = geotiff_path/f'{velocity_name}.tif'\n",
    "!save_gdal.py $velocity_path --of GTIFF -o $vel_tiff"
   ]
  },
  {
   "cell_type": "code",
   "execution_count": null,
   "id": "d928a527-e907-413a-a25c-28ceab58db37",
   "metadata": {},
   "outputs": [],
   "source": []
  }
 ],
 "metadata": {
  "kernelspec": {
   "display_name": "Python [conda env:.local-osl_mintpy]",
   "language": "python",
   "name": "conda-env-.local-osl_mintpy-py"
  },
  "language_info": {
   "codemirror_mode": {
    "name": "ipython",
    "version": 3
   },
   "file_extension": ".py",
   "mimetype": "text/x-python",
   "name": "python",
   "nbconvert_exporter": "python",
   "pygments_lexer": "ipython3",
   "version": "3.9.0"
  }
 },
 "nbformat": 4,
 "nbformat_minor": 5
}
