{
 "cells": [
  {
   "cell_type": "markdown",
   "id": "842af782-0b88-4fca-921c-9f79e2c759dd",
   "metadata": {},
   "source": [
    "# Output Results to GeoTiff\n",
    "\n",
    "*Author: Alex Lewandowski; Alaska Satellite Facility*\n",
    "\n",
    "Output the results of your MintPy Time Series to GeoTiff\n",
    "\n"
   ]
  },
  {
   "cell_type": "code",
   "execution_count": 16,
   "id": "8cde9dcb-a7ce-459d-ae9a-2ba6e61adb69",
   "metadata": {},
   "outputs": [],
   "source": [
    "from ipyfilechooser import FileChooser\n",
    "from pathlib import Path\n",
    "\n",
    "import h5py\n",
    "import rasterio"
   ]
  },
  {
   "cell_type": "markdown",
   "id": "5ebb8d04-d0a8-4c6f-97d8-ebd58aabab6e",
   "metadata": {},
   "source": [
    "---\n",
    "## 1. Select your project's custom config file\n",
    "\n",
    "- This is located in your project's `MintPy` directory\n",
    "- It is a text file named after your project\n",
    "  - `path/to/MinPy/my_project.txt`"
   ]
  },
  {
   "cell_type": "code",
   "execution_count": 2,
   "id": "2942f23e-60f9-4d99-8357-7b2ab5eb07e8",
   "metadata": {},
   "outputs": [
    {
     "name": "stdout",
     "output_type": "stream",
     "text": [
      "Select your project's MintPy directory:\n"
     ]
    },
    {
     "data": {
      "application/vnd.jupyter.widget-view+json": {
       "model_id": "838c792609434323bcfd634ddc2b3ffa",
       "version_major": 2,
       "version_minor": 0
      },
      "text/plain": [
       "FileChooser(path='/home/jovyan', filename='', title='', show_hidden=False, select_desc='Select', change_desc='…"
      ]
     },
     "metadata": {},
     "output_type": "display_data"
    }
   ],
   "source": [
    "path = Path.home()\n",
    "fc = FileChooser(path)\n",
    "print(\"Select your project's MintPy directory:\")\n",
    "display(fc)"
   ]
  },
  {
   "cell_type": "code",
   "execution_count": 12,
   "id": "5ab2b462-44e2-4791-8feb-7faa16b4bf89",
   "metadata": {},
   "outputs": [],
   "source": [
    "config_path = Path(fc.selected)\n",
    "mint_path = config_path.parent\n",
    "inputs_path = mint_path/ 'inputs'\n",
    "ifgramstack = inputs_path / 'ifgramStack.h5'\n",
    "geotiff_path = mint_path/'GeoTiffs'\n",
    "ts_demErr_path = list(mint_path.glob('timeseries*_demErr.h5'))[0]"
   ]
  },
  {
   "cell_type": "markdown",
   "id": "b53da7d8-258e-4656-a6af-b900fe856311",
   "metadata": {},
   "source": [
    "**Create a list dates for all timesteps**"
   ]
  },
  {
   "cell_type": "code",
   "execution_count": 8,
   "id": "8cd63c9c-fcaa-40dd-92f2-8f7078bfab20",
   "metadata": {},
   "outputs": [
    {
     "data": {
      "text/plain": [
       "['20230622',\n",
       " '20230704',\n",
       " '20230716',\n",
       " '20230728',\n",
       " '20230809',\n",
       " '20230821',\n",
       " '20230902',\n",
       " '20230914',\n",
       " '20230926',\n",
       " '20231008',\n",
       " '20231020',\n",
       " '20231101',\n",
       " '20231113',\n",
       " '20231125',\n",
       " '20231207',\n",
       " '20231219',\n",
       " '20231231',\n",
       " '20240112',\n",
       " '20240124',\n",
       " '20240205',\n",
       " '20240217',\n",
       " '20240229',\n",
       " '20240312']"
      ]
     },
     "execution_count": 8,
     "metadata": {},
     "output_type": "execute_result"
    }
   ],
   "source": [
    "ifgramstack = inputs_path/\"ifgramStack.h5\"\n",
    "\n",
    "with h5py.File(ifgramstack, \"r\") as f:\n",
    "    dates = f[\"date\"][()]\n",
    "    dates = list(set([d.decode(\"utf-8\") for insar in dates for d in insar]))\n",
    "    dates.sort()\n",
    "dates"
   ]
  },
  {
   "cell_type": "markdown",
   "id": "e4825e58-9a7b-41c4-8449-ab6960995e42",
   "metadata": {},
   "source": [
    "**Save the full displacement timeseries**"
   ]
  },
  {
   "cell_type": "code",
   "execution_count": 14,
   "id": "df413ca9-62b4-4ffa-96b6-f229c284799f",
   "metadata": {},
   "outputs": [
    {
     "name": "stdout",
     "output_type": "stream",
     "text": [
      "read 20240312 from file: /home/jovyan/AZ_burst_2/MintPy/timeseries_demErr.h5\n",
      "read 20230622 from file: /home/jovyan/AZ_burst_2/MintPy/timeseries_demErr.h5\n",
      "initiate GDAL driver: GeoTIFF\n",
      "create raster band:\n",
      "  raster row / column number: 498, 1201\n",
      "  raster data type: 6 (float32)\n",
      "set transform info: (294560.0, 80.0, 0, 3727840.0, 0, -80.0)\n",
      "set projection as: EPSG 32612\n",
      "write data to raster band\n",
      "finished writing to /home/jovyan/AZ_burst_2/MintPy/GeoTiffs/save_gdal_ts_demErr.tif\n"
     ]
    }
   ],
   "source": [
    "ds = f'{dates[0]}_{dates[-1]}'\n",
    "!save_gdal.py $ts_demErr_path -d $ds --of GTIFF -o $geotiff_path/\"save_gdal_ts_demErr.tif\""
   ]
  },
  {
   "cell_type": "markdown",
   "id": "1d09d01f-ec7a-4f89-90b7-4f1db095364e",
   "metadata": {},
   "source": [
    "**Save the unwrapped displacement GeoTiffs**"
   ]
  },
  {
   "cell_type": "code",
   "execution_count": null,
   "id": "cbfa2c59-51ef-4912-a125-559e7c30e1e6",
   "metadata": {},
   "outputs": [],
   "source": [
    "with h5py.File(ifgramstack, 'r') as f:\n",
    "    unw_pth = f.attrs['FILE_PATH']\n",
    "\n",
    "ds_unw = rasterio.open(unw_pth, 'r', driver='GTiff')\n",
    "\n",
    "for i, d in enumerate(tqdm(dates)):\n",
    "    date_range = f'{dates[0]}_{dates[i]}'\n",
    "    cmd = f'view.py {ts_demErr} {date_range} --notitle --notick --noaxis'\n",
    "    data, _, _ = mintpy.view.prep_slice(cmd)\n",
    "    data = data / 100 # cm -> meters\n",
    "        \n",
    "\n",
    "    with rasterio.open(f'{unwrapped_path}/{date_range}_{ts_demErr.stem}_unwrapped.tif', 'w', driver='GTiff',\n",
    "                  height = data.shape[0], width = data.shape[1],\n",
    "                  count=1, dtype=str(data.dtype),\n",
    "                  crs=ds_unw.read_crs(),\n",
    "                  transform=ds_unw.transform,\n",
    "                  nodata=np.nan) as ds:\n",
    "        \n",
    "        ds.write(data.astype(rasterio.float32), 1)"
   ]
  },
  {
   "cell_type": "code",
   "execution_count": null,
   "id": "ce82d986-9b06-4d3e-ae49-727db55cc2c0",
   "metadata": {},
   "outputs": [],
   "source": []
  },
  {
   "cell_type": "code",
   "execution_count": null,
   "id": "caba04f1-c3c7-4e84-a67f-fb47b08ca1a0",
   "metadata": {},
   "outputs": [],
   "source": []
  },
  {
   "cell_type": "code",
   "execution_count": null,
   "id": "fcd60aa1-6781-4b4a-ab2d-e21e93990783",
   "metadata": {},
   "outputs": [],
   "source": []
  },
  {
   "cell_type": "code",
   "execution_count": null,
   "id": "1099018e-98e9-46f6-a1ef-e312c510e2b5",
   "metadata": {},
   "outputs": [],
   "source": []
  },
  {
   "cell_type": "code",
   "execution_count": null,
   "id": "3fee9655-8950-4314-96ce-44dc7fc6fa32",
   "metadata": {},
   "outputs": [],
   "source": []
  }
 ],
 "metadata": {
  "kernelspec": {
   "display_name": "Python [conda env:.local-osl_mintpy]",
   "language": "python",
   "name": "conda-env-.local-osl_mintpy-py"
  },
  "language_info": {
   "codemirror_mode": {
    "name": "ipython",
    "version": 3
   },
   "file_extension": ".py",
   "mimetype": "text/x-python",
   "name": "python",
   "nbconvert_exporter": "python",
   "pygments_lexer": "ipython3",
   "version": "3.9.0"
  }
 },
 "nbformat": 4,
 "nbformat_minor": 5
}
