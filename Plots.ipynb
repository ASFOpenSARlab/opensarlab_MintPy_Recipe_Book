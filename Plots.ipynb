{
 "cells": [
  {
   "cell_type": "markdown",
   "id": "842af782-0b88-4fca-921c-9f79e2c759dd",
   "metadata": {},
   "source": [
    "# Plotting\n",
    "\n",
    "*Author: Alex Lewandowski; Alaska Satellite Facility*\n",
    "\n",
    "Rerun the plots in the Perform *Mintpy Time Series Analysis notebook* without rerunning the time series\n",
    "\n",
    "---\n",
    "\n",
    "<div class=\"alert alert-info\" style=\"display: flex; align-items: center; font-family: 'Times New Roman', Times, serif; background-color: #d1ecf1;\">\n",
    "  <div style=\"display: flex; align-items: center; width: 10%;\">\n",
    "    <a href=\"https://github.com/ASFOpenSARlab/opensarlab_MintPy_Recipe_Book/issues\">\n",
    "      <img src=\"github_issues.png\" alt=\"GitHub logo over the word Issues\" style=\"width: 100%;\">\n",
    "    </a>\n",
    "  </div>\n",
    "  <div style=\"width: 95%;\">\n",
    "    <b>Did you find a bug? Do you have a feature request?</b>\n",
    "    <br/>\n",
    "    Explore GitHub Issues on this Jupyter Book's GitHub repository. Find solutions, add to the discussion, or start a new bug report or feature request: <a href=\"https://github.com/ASFOpenSARlab/opensarlab_MintPy_Recipe_Book/issues\">opensarlab_MintPy_Recipe_Book Issues</a>\n",
    "  </div>\n",
    "</div>\n",
    "\n",
    "<div class=\"alert alert-info\" style=\"display: flex; align-items: center; justify-content: space-between; font-family: 'Times New Roman', Times, serif; background-color: #d1ecf1;\">\n",
    "  <div style=\"display: flex; align-items: center; width: 10%; margin-right: 10px;\">\n",
    "    <a href=\"mailto:uso@asf.alaska.edu\">\n",
    "      <img src=\"ASF_support_logo.png\" alt=\"ASF logo\" style=\"width: 100%\">\n",
    "    </a>\n",
    "  </div>\n",
    "  <div style=\"width: 95%;\">\n",
    "    <b>Have a question related to SAR, ASF data access, or performing SBAS time series analyses with MintPy?</b>\n",
    "    <br/>\n",
    "    Contact ASF User Support: <a href=\"mailto:uso@asf.alaska.edu\">uso@asf.alaska.edu</a>\n",
    "  </div>\n",
    "</div>\n",
    "\n",
    "---\n",
    "\n",
    "## 0. Import Required Software"
   ]
  },
  {
   "cell_type": "code",
   "execution_count": null,
   "id": "8cde9dcb-a7ce-459d-ae9a-2ba6e61adb69",
   "metadata": {},
   "outputs": [],
   "source": [
    "from ipyfilechooser import FileChooser\n",
    "from pathlib import Path\n",
    "import sys\n",
    "\n",
    "from mintpy.cli import view, tsview, plot_network, plot_transection, plot_coherence_matrix\n",
    "import mintpy.plot_coherence_matrix\n",
    "import mintpy.utils\n",
    "import numpy as np\n",
    "import opensarlab_lib as osl\n",
    "\n",
    "current = Path(\"..\").resolve()\n",
    "sys.path.append(str(current))\n",
    "import util.util as util"
   ]
  },
  {
   "cell_type": "markdown",
   "id": "fd858ed9-d6a4-49db-8864-95f31e5c60e2",
   "metadata": {},
   "source": [
    "---\n",
    "## 1. Select your project's custom config file\n",
    "\n",
    "- This is located in your project's `MintPy` directory\n",
    "- It is a text file named after your project\n",
    "  - `path/to/MinPy/my_project.txt`"
   ]
  },
  {
   "cell_type": "code",
   "execution_count": null,
   "id": "248bb646-9d3c-4e0a-8560-0cbf9d85b4a2",
   "metadata": {},
   "outputs": [],
   "source": [
    "file_chooser_path = util.get_recent_mintpy_config_path()\n",
    "if file_chooser_path:\n",
    "    fc = FileChooser(path=file_chooser_path.parent, filename=file_chooser_path.name, select_default=True)\n",
    "else:\n",
    "    file_chooser_path = Path.home()\n",
    "    fc = FileChooser(file_chooser_path, select_default=False)\n",
    "    \n",
    "print(\"Select your custom MintPy config file (MintPy/my_project_name.txt):\")\n",
    "display(fc)"
   ]
  },
  {
   "cell_type": "code",
   "execution_count": null,
   "id": "e8684dde-0295-4a33-b651-d9b6d09d2e7d",
   "metadata": {},
   "outputs": [],
   "source": [
    "if Path(fc.selected) != file_chooser_path:\n",
    "    util.write_recent_mintpy_config_path(Path(fc.selected))\n",
    "\n",
    "config_path = Path(fc.selected)\n",
    "mint_path = config_path.parent\n",
    "plot_path = mint_path / 'plots'\n",
    "inputs_path = mint_path / 'inputs'\n",
    "\n",
    "velocity_path = mint_path/'velocity.h5'\n",
    "geotiff_path = mint_path / 'GeoTiffs'\n",
    "disp_path = geotiff_path / 'displacement_maps'\n",
    "unwrapped_path = disp_path / 'unwrapped'\n",
    "unwrapped_path.mkdir(parents=True, exist_ok=True)\n",
    "ts_demErr_path = list(mint_path.glob('timeseries*_demErr.h5'))"
   ]
  },
  {
   "cell_type": "markdown",
   "id": "9757e7c5-3fa6-48ce-af34-33345b9314ed",
   "metadata": {},
   "source": [
    "**If you have both tropospheric delay corrected and uncorrected time series available, select which to plot**\n",
    "\n",
    "- If you have run the time series more than once, with tropospheric correction both on and off, you will have time series saved for both configurations\n",
    "- `timeseries_demErr.h5` is the time series not corrected for tropospheric delay\n",
    "- `timeseries_ERA5.h5` is the time series corrected for tropospheric delay"
   ]
  },
  {
   "cell_type": "code",
   "execution_count": null,
   "id": "c75e2f76-496e-4142-81a4-0554589579c2",
   "metadata": {},
   "outputs": [],
   "source": [
    "if len(ts_demErr_path) > 1:\n",
    "    ts_select_option = osl.select_parameter(\n",
    "        [\n",
    "            ts_demErr_path[0],\n",
    "            ts_demErr_path[1]\n",
    "        ],\n",
    "        description='Select the time series file you wish to plot:'\n",
    "    )\n",
    "    display(ts_select_option)\n",
    "else:\n",
    "    ts_demErr_sel_path = ts_demErr_path[0]"
   ]
  },
  {
   "cell_type": "code",
   "execution_count": null,
   "id": "edcf85c8-52e7-478a-9474-a36f98f8d0a7",
   "metadata": {},
   "outputs": [],
   "source": [
    "if len(ts_demErr_path) > 1:\n",
    "    ts_demErr_sel_path = ts_select_option.value"
   ]
  },
  {
   "cell_type": "markdown",
   "id": "41aaf849-d490-498e-bd50-40e40ea9436e",
   "metadata": {},
   "source": [
    "---\n",
    "## 2. Plot the interferogram network\n",
    "\n",
    "Running **plot_network.py** gives an overview of the network and the average coherence of the stack. The program creates multiple files as follows:\n",
    "- `ifgramStack_coherence_spatialAvg.txt`: Contains interferogram dates, average coherence temporal and spatial baseline separation.\n",
    "- `Network.pdf`: Displays the network of interferograms on time-baseline coordinates, colorcoded by avergae coherence of the interferograms. \n",
    "- `CoherenceMatrix.pdf` shows the avergae coherence pairs between all available pairs in the stack."
   ]
  },
  {
   "cell_type": "code",
   "execution_count": null,
   "id": "dc6d800e-2f79-496c-8fae-9969450de628",
   "metadata": {},
   "outputs": [],
   "source": [
    "%matplotlib inline\n",
    "with osl.work_dir(mint_path):\n",
    "    scp_args = f'{inputs_path}/ifgramStack.h5 --cmap-vlist 0.2 0.7 1.0'\n",
    "    plot_network.main(scp_args.split())"
   ]
  },
  {
   "cell_type": "markdown",
   "id": "6b4a60a3-205f-48aa-8ca2-cff84d76f990",
   "metadata": {},
   "source": [
    "**Plot the velocity map**\n",
    "\n",
    "Note: The min/max values in this plot should be adjusted to your data set. \n",
    "\n",
    "The output of the following call will show a data range. You can run the cell once to collect this information and re-run it after adjustments are made.\n",
    "\n",
    "- You should update `vmin` and `vmax` to match your data range\n",
    "- The `vmin` and `vmax` values that you assign will be used for additional plots in this notebook\n",
    "- If you wish to set 0 deformation to the center of the color scale (green), adjust your min/max values so they are symmetrical\n",
    "    - For example, given a data range of `[-10.691118, 13.904866]`, appropriate symmetrical min/max values would be `[-14.0, 14.0]` "
   ]
  },
  {
   "cell_type": "code",
   "execution_count": null,
   "id": "9f1d04b7-de15-4706-9f68-6e2025bdc089",
   "metadata": {},
   "outputs": [],
   "source": [
    "colormap_select = osl.select_parameter(\n",
    "    [\n",
    "        \"Display red for uplift, and blue for subsidence\",\n",
    "        \"Display blue for uplift, and red for subsidence\"\n",
    "    ]\n",
    ")\n",
    "display(colormap_select)"
   ]
  },
  {
   "cell_type": "code",
   "execution_count": null,
   "id": "337a2c8c-2164-4ac6-9a63-036305eee6f2",
   "metadata": {},
   "outputs": [],
   "source": [
    "%matplotlib inline\n",
    "cmap = 'jet' if 'red for uplift' in colormap_select.value else 'jet_r'\n",
    "\n",
    "vel_vmin, vel_vmax = util.get_mintpy_vmin_vmax(mint_path/'velocity.h5', mask_path=mint_path/'maskTempCoh.h5', bottom_percentile=0.05)\n",
    "\n",
    "# uncomment the following 2 lines to manually set the vmin and vmax values\n",
    "# vel_vmin = -2.0\n",
    "# vel_vmax = 2.0\n",
    "\n",
    "scp_args = f'{mint_path}/velocity.h5 velocity -v {vel_vmin} {vel_vmax} --dpi 600 --figsize 15 15 --outfile {plot_path}/velocity.png --update --colormap {cmap}'\n",
    "view.main(scp_args.split())"
   ]
  },
  {
   "cell_type": "markdown",
   "id": "9a3ac370-c4fc-479e-8ab9-d8eb65c9cf9b",
   "metadata": {},
   "source": [
    "---\n",
    "## 3. Plot the unwrapped inverted timeseries"
   ]
  },
  {
   "cell_type": "code",
   "execution_count": null,
   "id": "8b62e04e-0fcf-4aaa-bda2-05d70752a64e",
   "metadata": {},
   "outputs": [],
   "source": [
    "inv_vmin, inv_vmax = util.get_mintpy_vmin_vmax(ts_demErr_sel_path, mask_path=mint_path/'maskTempCoh.h5', bottom_percentile=0.0)\n",
    "\n",
    "# uncomment the following 2 lines to manually set the vmin and vmax values\n",
    "# inv_vmin = -2.0\n",
    "# inv_vmax = 2.0\n",
    "\n",
    "scp_args = f'{ts_demErr_sel_path} --notick --noaxis -v {inv_vmin} {inv_vmax} --dpi 600 --figsize 15 15 --outfile {unwrapped_path}/unwrapped_inverted_ts.png'\n",
    "view.main(scp_args.split())"
   ]
  },
  {
   "cell_type": "markdown",
   "id": "7f42a4b7-7642-4625-b043-67637c22036d",
   "metadata": {},
   "source": [
    "---\n",
    "## 3. Plot a Motion Transect\n",
    "\n",
    "**Select two points to define a transect on an interactive plot**"
   ]
  },
  {
   "cell_type": "code",
   "execution_count": null,
   "id": "6536066b-46a8-4642-b044-7a33cd29dc0a",
   "metadata": {},
   "outputs": [],
   "source": [
    "%matplotlib widget\n",
    "\n",
    "vel_vmin, vel_vmax = util.get_mintpy_vmin_vmax(velocity_path, mask_path=mint_path/'maskTempCoh.h5', bottom_percentile=0.05)\n",
    "\n",
    "# uncomment the following 2 lines to manually set the vmin and vmax values\n",
    "# vel_vmin = -2.0\n",
    "# vel_vmax = 2.0\n",
    "\n",
    "data, vel_info = mintpy.utils.readfile.read(velocity_path)\n",
    "mask = np.ma.masked_where(data==0, data)\n",
    "data = mask.filled(fill_value=np.nan)\n",
    "line = osl.LineSelector(data, figsize=(9, 9), cmap='jet', vmin=vel_vmin/100, vmax=vel_vmax/100)"
   ]
  },
  {
   "cell_type": "markdown",
   "id": "b42ec65e-03ca-4922-8cac-61d7b9942e9c",
   "metadata": {},
   "source": [
    "**Plot the selected motion transect**"
   ]
  },
  {
   "cell_type": "code",
   "execution_count": null,
   "id": "0bc85657-c4b3-45c8-bf87-b7646ed9e0a3",
   "metadata": {},
   "outputs": [],
   "source": [
    "geotrans = (\n",
    "    float(vel_info['X_FIRST']),\n",
    "    float(vel_info['X_STEP']),\n",
    "    0.0, \n",
    "    float(vel_info['Y_FIRST']), \n",
    "    0.0, \n",
    "    float(vel_info['Y_STEP'])\n",
    ")\n",
    "\n",
    "def geolocation(x, y, geotrans):\n",
    "    return [geotrans[0]+x*geotrans[1], geotrans[3]+y*geotrans[5]]\n",
    "\n",
    "try:\n",
    "    pnt_1 = geolocation(line.pnt1[0][0], line.pnt1[0][1], geotrans)\n",
    "    pnt_2 = geolocation(line.pnt2[0][0], line.pnt2[0][1], geotrans)\n",
    "    print(f\"point 1: {pnt_1}\")\n",
    "    print(f\"point 2: {pnt_2}\")\n",
    "except TypeError:\n",
    "    print('TypeError')\n",
    "    display(Markdown(f'<text style=color:red>This error may occur if a line was not selected.</text>'))\n",
    "\n",
    "scp_args = f'{mint_path}/velocity.h5 -v {vel_vmin} {vel_vmax} --start-lalo {pnt_1[1]} {pnt_1[0]} --end-lalo {pnt_2[1]} {pnt_2[0]} --outfile x'\n",
    "\n",
    "with osl.work_dir(plot_path):\n",
    "    # let MintPy cleanup its old subplots \n",
    "    # this has been fixed in MintPy 1.5.3 but is required for 1.5.1\n",
    "    plot_transection.main(scp_args.split()[:-2] + ['--noverbose', '--nodisplay'])\n",
    "    # plot transection after removing old subplots\n",
    "    %matplotlib inline\n",
    "    plot_transection.main(scp_args.split())"
   ]
  },
  {
   "cell_type": "markdown",
   "id": "bb860cb2-36e2-4e91-9612-f6317602e9ac",
   "metadata": {},
   "source": [
    "---\n",
    "## 4. Plot the Cumulative Displacement Map and Point Displacement Time Series\n",
    "\n",
    "- Use the `Time` bar below the Cumulative Displacement Map to view displacements for different time periods\n",
    "- Click on the Cumulative Displacement Map to select points for displaying Point Displacement Time-Series"
   ]
  },
  {
   "cell_type": "code",
   "execution_count": null,
   "id": "cc1a89f7-e955-4405-9d29-5d17e5813669",
   "metadata": {},
   "outputs": [],
   "source": [
    "%matplotlib widget\n",
    "\n",
    "tsview.main(\n",
    "    [\n",
    "        str(ts_demErr_sel_path),\n",
    "        f'-d={mint_path}/inputs/geometryGeo.h5', \n",
    "        f'-o={mint_path}/displacement_ts', \n",
    "        f'--outfile={mint_path}/displacement_ts.pdf'\n",
    "    ]\n",
    ")"
   ]
  },
  {
   "cell_type": "code",
   "execution_count": null,
   "id": "12ba3ff5-8dd9-4cc8-aece-b1b833bc5740",
   "metadata": {},
   "outputs": [],
   "source": []
  }
 ],
 "metadata": {
  "kernelspec": {
   "display_name": "Python [conda env:.local-opensarlab_mintpy_recipe_book]",
   "language": "python",
   "name": "conda-env-.local-opensarlab_mintpy_recipe_book-py"
  },
  "language_info": {
   "codemirror_mode": {
    "name": "ipython",
    "version": 3
   },
   "file_extension": ".py",
   "mimetype": "text/x-python",
   "name": "python",
   "nbconvert_exporter": "python",
   "pygments_lexer": "ipython3",
   "version": "3.9.0"
  }
 },
 "nbformat": 4,
 "nbformat_minor": 5
}
