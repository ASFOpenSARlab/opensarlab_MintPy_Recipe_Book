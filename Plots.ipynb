{
 "cells": [
  {
   "cell_type": "markdown",
   "id": "842af782-0b88-4fca-921c-9f79e2c759dd",
   "metadata": {},
   "source": [
    "# Plotting\n",
    "\n",
    "\n",
    "## 0. Import Required Software"
   ]
  },
  {
   "cell_type": "code",
   "execution_count": 1,
   "id": "8cde9dcb-a7ce-459d-ae9a-2ba6e61adb69",
   "metadata": {},
   "outputs": [],
   "source": [
    "from ipyfilechooser import FileChooser\n",
    "from pathlib import Path\n",
    "import sys\n",
    "\n",
    "from mintpy.cli import view, tsview, plot_network, plot_transection, plot_coherence_matrix\n",
    "import mintpy.plot_coherence_matrix\n",
    "import mintpy.objects.insar_vs_gps\n",
    "import mintpy.utils\n",
    "\n",
    "current = Path(\"..\").resolve()\n",
    "sys.path.append(str(current))\n",
    "import util.gps as gps"
   ]
  },
  {
   "cell_type": "markdown",
   "id": "fd858ed9-d6a4-49db-8864-95f31e5c60e2",
   "metadata": {},
   "source": [
    "---\n",
    "## 1. Select your project's custom config file\n",
    "\n",
    "- This is located in your project's `MintPy` directory\n",
    "- It is a text file named after your project\n",
    "  - `path/to/MinPy/my_project.txt`"
   ]
  },
  {
   "cell_type": "code",
   "execution_count": null,
   "id": "248bb646-9d3c-4e0a-8560-0cbf9d85b4a2",
   "metadata": {},
   "outputs": [],
   "source": [
    "path = Path.home()\n",
    "fc = FileChooser(path)\n",
    "print(\"Select your project's MintPy directory:\")\n",
    "display(fc)"
   ]
  },
  {
   "cell_type": "code",
   "execution_count": null,
   "id": "e8684dde-0295-4a33-b651-d9b6d09d2e7d",
   "metadata": {},
   "outputs": [],
   "source": [
    "config_path = Path(fc.selected)\n",
    "mint_path = config_path.parent\n",
    "plot_path = mint_path / \"plots\""
   ]
  },
  {
   "cell_type": "markdown",
   "id": "41aaf849-d490-498e-bd50-40e40ea9436e",
   "metadata": {},
   "source": [
    "---\n",
    "## 2. Plot the interferogram network\n",
    "\n",
    "Running **plot_network.py** gives an overview of the network and the average coherence of the stack. The program creates multiple files as follows:\n",
    "- `ifgramStack_coherence_spatialAvg.txt`: Contains interferogram dates, average coherence temporal and spatial baseline separation.\n",
    "- `Network.pdf`: Displays the network of interferograms on time-baseline coordinates, colorcoded by avergae coherence of the interferograms. \n",
    "- `CoherenceMatrix.pdf` shows the avergae coherence pairs between all available pairs in the stack."
   ]
  },
  {
   "cell_type": "code",
   "execution_count": null,
   "id": "dc6d800e-2f79-496c-8fae-9969450de628",
   "metadata": {},
   "outputs": [],
   "source": [
    "%matplotlib inline\n",
    "with osl.work_dir(mint_path):\n",
    "    scp_args = f'{inputs_path}/ifgramStack.h5 --cmap-vlist 0.2 0.7 1.0'\n",
    "    plot_network.main(scp_args.split())"
   ]
  },
  {
   "cell_type": "markdown",
   "id": "6b4a60a3-205f-48aa-8ca2-cff84d76f990",
   "metadata": {},
   "source": [
    "**Plot the velocity map**\n",
    "\n",
    "Note: The min/max values in this plot should be adjusted to your data set. \n",
    "\n",
    "The output of the following call will show a data range. You can run the cell once to collect this information and re-run it after adjustments are made.\n",
    "\n",
    "- You should update `vmin` and `vmax` to match your data range\n",
    "- The `vmin` and `vmax` values that you assign will be used for additional plots in this notebook\n",
    "- If you wish to set 0 deformation to the center of the color scale (green), adjust your min/max values so they are symmetrical\n",
    "    - For example, given a data range of `[-10.691118, 13.904866]`, appropriate symmetrical min/max values would be `[-14.0, 14.0]` "
   ]
  },
  {
   "cell_type": "code",
   "execution_count": null,
   "id": "9f1d04b7-de15-4706-9f68-6e2025bdc089",
   "metadata": {},
   "outputs": [],
   "source": [
    "colormap_select = osl.select_parameter(\n",
    "    [\n",
    "        \"Display red for uplift, and blue for subsidence\",\n",
    "        \"Display blue for uplift, and red for subsidence\"\n",
    "    ]\n",
    ")\n",
    "display(colormap_select)"
   ]
  },
  {
   "cell_type": "code",
   "execution_count": null,
   "id": "337a2c8c-2164-4ac6-9a63-036305eee6f2",
   "metadata": {},
   "outputs": [],
   "source": [
    "%matplotlib inline\n",
    "cmap = 'jet' if 'red for uplift' in colormap_select.value else 'jet_r'\n",
    "\n",
    "vel_vmin = -8\n",
    "vel_vmax = 8\n",
    "\n",
    "scp_args = f'{mint_path}/velocity.h5 velocity -v {vel_vmin} {vel_vmax} --dpi 600 --figsize 15 15 --outfile {plot_path}/velocity.png --update --colormap {cmap}'\n",
    "view.main(scp_args.split())"
   ]
  },
  {
   "cell_type": "markdown",
   "id": "9a3ac370-c4fc-479e-8ab9-d8eb65c9cf9b",
   "metadata": {},
   "source": [
    "---\n",
    "## 3. Plot the unwrapped inverted timeseries"
   ]
  },
  {
   "cell_type": "code",
   "execution_count": null,
   "id": "5aca5b24-6b84-4169-b063-860fd7162bb3",
   "metadata": {},
   "outputs": [],
   "source": [
    "geotiff_path = mint_path / 'GeoTiffs'\n",
    "disp_path = geotiff_path / 'displacement_maps'\n",
    "unwrapped_path = disp_path / 'unwrapped'\n",
    "unwrapped_path.mkdir(parents=True, exist_ok=True)\n",
    "ts_demErr_path = list(mint_path.glob('timeseries*_demErr.h5'))[0]"
   ]
  },
  {
   "cell_type": "code",
   "execution_count": null,
   "id": "8b62e04e-0fcf-4aaa-bda2-05d70752a64e",
   "metadata": {},
   "outputs": [],
   "source": [
    "inv_vmin = -9\n",
    "inv_vmax = 9\n",
    "\n",
    "scp_args = f'{ts_demErr_path} --notitle --notick --noaxis -v {inv_vmin} {inv_vmax} --dpi 600 --figsize 15 15 --outfile {unwrapped_path}/unwrapped_inverted_ts.png'\n",
    "view.main(scp_args.split())"
   ]
  },
  {
   "cell_type": "markdown",
   "id": "bb860cb2-36e2-4e91-9612-f6317602e9ac",
   "metadata": {},
   "source": [
    "---\n",
    "## 4. Plot the Cumulative Displacement Map and Point Displacement Time Series\n",
    "\n",
    "- Use the `Time` bar below the Cumulative Displacement Map to view displacements for different time periods\n",
    "- Click on the Cumulative Displacement Map to select points for displaying Point Displacement Time-Series"
   ]
  },
  {
   "cell_type": "code",
   "execution_count": null,
   "id": "cc1a89f7-e955-4405-9d29-5d17e5813669",
   "metadata": {},
   "outputs": [],
   "source": [
    "%matplotlib widget\n",
    "\n",
    "tsview.main([str(ts_demErr_path),\n",
    "             f'-d={mint_path}/inputs/geometryGeo.h5', \n",
    "             f'-o={mint_path}/displacement_ts', \n",
    "             f'--outfile={mint_path}/displacement_ts.pdf'])"
   ]
  }
 ],
 "metadata": {
  "kernelspec": {
   "display_name": "Python [conda env:.local-osl_mintpy]",
   "language": "python",
   "name": "conda-env-.local-osl_mintpy-py"
  },
  "language_info": {
   "codemirror_mode": {
    "name": "ipython",
    "version": 3
   },
   "file_extension": ".py",
   "mimetype": "text/x-python",
   "name": "python",
   "nbconvert_exporter": "python",
   "pygments_lexer": "ipython3",
   "version": "3.9.0"
  }
 },
 "nbformat": 4,
 "nbformat_minor": 5
}
