{
 "cells": [
  {
   "cell_type": "markdown",
   "id": "842af782-0b88-4fca-921c-9f79e2c759dd",
   "metadata": {},
   "source": [
    "# C. Perform MintPy Time Series Analysis\n",
    "\n",
    "*Author: Alex Lewandowski; Alaska Satellite Facility*\n",
    "\n",
    "This notebook assumes that you have loaded a time series into MintPy and have prepared a custom configuration file.\n",
    "\n",
    "\n",
    "**MintPy Workflow**\n",
    "<p align=\"left\">\n",
    "  <img width=\"600\" src=\"https://opensarlab-docs.asf.alaska.edu/opensarlab-notebook-assets/notebook_images/MintPyWorkflow.jpg\">\n",
    "</p>     \n",
    "<p style=\"text-align: center;\">\n",
    "    (Figure from Yunjun et al., 2019)\n",
    "</p>\n",
    "\n",
    "- Blue Ovals: correcting unwrapping errors and inverting for the raw phase time-series\n",
    "- Green Ovals: correcting for noise from different sources to obtain the displacement time-series\n",
    "- Dashed Ovals: Optional Steps\n",
    "\n",
    "---\n",
    "## 0. Import Required Software\n"
   ]
  },
  {
   "cell_type": "code",
   "execution_count": null,
   "id": "8cde9dcb-a7ce-459d-ae9a-2ba6e61adb69",
   "metadata": {},
   "outputs": [],
   "source": [
    "from pathlib import Path\n",
    "import shutil\n",
    "import sys\n",
    "\n",
    "from ipyfilechooser import FileChooser\n",
    "from mintpy.cli import view, tsview, plot_network, plot_transection\n",
    "import mintpy.utils\n",
    "import numpy as np\n",
    "import opensarlab_lib as osl\n",
    "\n",
    "current = Path(\"..\").resolve()\n",
    "sys.path.append(str(current))\n",
    "import util.util as util"
   ]
  },
  {
   "cell_type": "markdown",
   "id": "211b836f-6a92-4509-bf74-747cc8d61794",
   "metadata": {},
   "source": [
    "---\n",
    "## 1. Select your project's custom config file\n",
    "\n",
    "- This is located in your project's `MintPy` directory\n",
    "- It is a text file named after your project\n",
    "  - `path/to/MinPy/my_project.txt`"
   ]
  },
  {
   "cell_type": "code",
   "execution_count": null,
   "id": "5448d380-15f9-4cf9-a552-79d2bb4c0593",
   "metadata": {},
   "outputs": [],
   "source": [
    "recent_mintpy_path = Path.cwd() / '.recent_mintpy_config'\n",
    "\n",
    "file_chooser_path = util.get_recent_mintpy_config_path()\n",
    "if file_chooser_path:\n",
    "    fc = FileChooser(path=file_chooser_path.parent, filename=file_chooser_path.name, select_default=True)\n",
    "else:\n",
    "    file_chooser_path = Path.home()\n",
    "    fc = FileChooser(file_chooser_path, select_default=False)\n",
    "    \n",
    "print(\"Select your custom MintPy config file (MintPy/my_project_name.txt):\")\n",
    "display(fc)"
   ]
  },
  {
   "cell_type": "code",
   "execution_count": null,
   "id": "7b5752ac-8444-4d49-85eb-7b858975954e",
   "metadata": {},
   "outputs": [],
   "source": [
    "if Path(fc.selected) != file_chooser_path:\n",
    "    util.write_recent_mintpy_config_path(Path(fc.selected))\n",
    "\n",
    "config_path = Path(fc.selected)\n",
    "mint_path = config_path.parent\n",
    "inputs_path = mint_path / 'inputs'\n",
    "ifgram_path = inputs_path / 'ifgramStack.h5'\n",
    "plot_path = mint_path / 'plots'\n",
    "velocity_path = mint_path/'velocity.h5'"
   ]
  },
  {
   "cell_type": "markdown",
   "id": "fc83bfde-2668-4c53-9b96-0e8db75514d9",
   "metadata": {},
   "source": [
    "---\n",
    "## 2. Modify the Network\n",
    "\n",
    "**Run the `modify_network` step**\n",
    "\n",
    "- Identifies and excludes interferograms (i.e. affected by remaining coherence phase-unwrapping errors) before the network inversion\n",
    "- Updates metadata with changes to your custom config"
   ]
  },
  {
   "cell_type": "code",
   "execution_count": null,
   "id": "96e61c06-14a8-40f8-b267-809d6a17de32",
   "metadata": {},
   "outputs": [],
   "source": [
    "!smallbaselineApp.py $config_path --work-dir {mint_path} --dostep modify_network"
   ]
  },
  {
   "cell_type": "markdown",
   "id": "e2b1b257-efcc-45e0-8879-902ad003b108",
   "metadata": {},
   "source": [
    "---\n",
    "## 3. Plot the interferogram network\n",
    "\n",
    "Running **plot_network.py** gives an overview of the network and the average coherence of the stack. The program creates multiple files as follows:\n",
    "- `ifgramStack_coherence_spatialAvg.txt`: Contains interferogram dates, average coherence temporal and spatial baseline separation.\n",
    "- `Network.pdf`: Displays the network of interferograms on time-baseline coordinates, colorcoded by avergae coherence of the interferograms. \n",
    "- `CoherenceMatrix.pdf` shows the avergae coherence pairs between all available pairs in the stack."
   ]
  },
  {
   "cell_type": "code",
   "execution_count": null,
   "id": "80dfec2d-6b7a-4ade-a6f2-8bd23ff3ee15",
   "metadata": {},
   "outputs": [],
   "source": [
    "%matplotlib inline\n",
    "with osl.work_dir(mint_path):\n",
    "    scp_args = f'{inputs_path}/ifgramStack.h5 --cmap-vlist 0.2 0.7 1.0'\n",
    "    plot_network.main(scp_args.split())\n",
    "    plots = ['bperpHistory.pdf', 'coherenceHistory.pdf', 'coherenceMatrix.pdf', 'network.pdf']\n",
    "    for p in plots:\n",
    "        if (mint_path/p).exists():\n",
    "            (mint_path/p).rename(f'{plot_path}/{p}')"
   ]
  },
  {
   "cell_type": "markdown",
   "id": "37f4804f-46ba-4ce6-b57f-77b9ae024128",
   "metadata": {},
   "source": [
    "---\n",
    "## 4. Set the Reference Point\n",
    "\n",
    "**Run the `reference_point` step**\n",
    "\n",
    "The interferometric phase is a relative observation by nature. The phases of each unwrapped interferogram are relative with respect to an arbitrary pixel. Therfore, we need to reference all interferograms to a common reference pixel.\n",
    "\n",
    "The `reference_point` step selects a common reference pixel for the stack of interferograms. The default approach of MintPy is to choose a pixel with the highest spatial coherence in the stack. Other options include specifying the longitude and latitude of the desired reference pixel or the line and column number of the refence pixel. "
   ]
  },
  {
   "cell_type": "code",
   "execution_count": null,
   "id": "febe6a28-79ae-4f40-8a96-1c085d931a13",
   "metadata": {},
   "outputs": [],
   "source": [
    "!smallbaselineApp.py $config_path --work-dir {mint_path} --dostep reference_point"
   ]
  },
  {
   "cell_type": "markdown",
   "id": "6ea2a15a-d1aa-4b91-abba-b6d3d5f2bc63",
   "metadata": {},
   "source": [
    "**Running the \"reference_step\" adds additional attributes \"REF_X, REF_Y\" and \"REF_LON, REF_LAT\" to the `ifgramStack.h5` file. To see the attributes of the file run `info.py`**"
   ]
  },
  {
   "cell_type": "code",
   "execution_count": null,
   "id": "999a8dd0-ab50-48a8-8029-96af75ef1367",
   "metadata": {},
   "outputs": [],
   "source": [
    "!info.py $inputs_path/ifgramStack.h5 | egrep 'REF_'"
   ]
  },
  {
   "cell_type": "markdown",
   "id": "1b4e3838-9227-405b-80d4-bca6b991cdfe",
   "metadata": {},
   "source": [
    "---\n",
    "## 5. Run a Quick Overview\n",
    "\n",
    "**Run the `quick_overview` step**\n",
    "\n",
    "- Assess possible groud deformation using the velocity from traditional interferogram stacking \n",
    "    - *reference: Zebker et al. (1997, JGR)*\n",
    "- Assess distribution of phase unwrapping error from the number of interferogram triplets with non-zero integer ambiguity of closure phase \n",
    "    - *reference: T_int in Yunjun et al. (2019, CAGEO). Related to section 3.2, equation (8-9) and Fig. 3d-e.*"
   ]
  },
  {
   "cell_type": "code",
   "execution_count": null,
   "id": "c6496869-640d-4966-ac4a-5580f6849537",
   "metadata": {},
   "outputs": [],
   "source": [
    "!smallbaselineApp.py $config_path --work-dir {mint_path} --dostep quick_overview"
   ]
  },
  {
   "cell_type": "markdown",
   "id": "000e95c4-3ecf-492b-bfc5-252e259f51ec",
   "metadata": {},
   "source": [
    "---\n",
    "## 6. Inverting the Small Baseline network\n",
    "\n",
    "**Run the `invert_network` step**\n",
    "\n",
    "- Invert the network of differential unwrapped interferograms to estimate the time-series of unwrapped phase with respect to a reference acquisition date\n",
    "- By default mintpy selects the first acquisition\n",
    "- The estimated time-series is converted to distance change from radar to target and is provided in meters."
   ]
  },
  {
   "cell_type": "code",
   "execution_count": null,
   "id": "e9957ba3-13c1-47ea-99b1-dc453cfa5042",
   "metadata": {},
   "outputs": [],
   "source": [
    "!smallbaselineApp.py $config_path --work-dir {mint_path} --dostep invert_network"
   ]
  },
  {
   "cell_type": "markdown",
   "id": "8daf390c-fc57-4599-a46f-e8a16e9eb460",
   "metadata": {},
   "source": [
    "---\n",
    "## 7. Correct for Tropospheric Propagation Delays (Optional)\n",
    "\n",
    "\n",
    "<div class=\"alert alert-warning\">\n",
    "<font face=\"Calibri\" size=\"5\"><b><font color='rgba(200,0,0,0.2)'> <u>CDS is migrating data and current service is impacted</u></font></b></font>\n",
    "<br/>\n",
    "<font face=\"Calibri\" size=\"4\">   February 14, 2024\n",
    "</font>\n",
    "<br/>\n",
    "<font face=\"Calibri\" size=\"3\"><a href=\"https://forum.ecmwf.int/t/a-new-cds-soon-to-be-launched-expect-some-disruptions/1607\">https://forum.ecmwf.int/t/a-new-cds-soon-to-be-launched-expect-some-disruptions/1607</a>\n",
    "    <br/><br/>\n",
    "<i><b>Expect:</b>\n",
    "    <ul>\n",
    "<li>longer queues</li>\n",
    "<li>requests being cancelled</li>\n",
    "<li>temporary closure of queues</li>\n",
    "<li>requests failing with unusual error messages</li>\n",
    "<li>catalogue temporarily offline</li>\n",
    "</font>\n",
    "</div>\n",
    "\n",
    "**Run the `correct_troposphere` step**\n",
    "\n",
    "***This will be skipped if `mintpy.troposphericDelay.method` is set to \"no\" in your custom config***\n",
    "\n",
    "- Requires configuring a `.cdsapirc` file for CDS access\n",
    "  - Run the `CDS_Access.ipynb` (Set Up Climate Data Store Access) Notebook\n",
    "- Uses ECMWF [ERA5 climate reanalysis pressure data](https://cds.climate.copernicus.eu/cdsapp#!/search?type=dataset&keywords=((%20%22Product%20type:%20Reanalysis%22%20)%20AND%20(%20%22Provider:%20Copernicus%20C3S%22%20))&text=pressure)"
   ]
  },
  {
   "cell_type": "code",
   "execution_count": null,
   "id": "6040e365-1103-4af0-838b-8944de845c31",
   "metadata": {},
   "outputs": [],
   "source": [
    "era5_path = mint_path/\"ERA5\"\n",
    "timeseries_era5_path = mint_path/\"timeseries_ERA5.h5\"\n",
    "inputs_era5_path = mint_path/\"inputs/ERA5.h5\"\n",
    "\n",
    "for f in [timeseries_era5_path, inputs_era5_path]:\n",
    "    try:\n",
    "        f.unlink()\n",
    "    except FileNotFoundError:\n",
    "        pass\n",
    "try:\n",
    "    shutil.rmtree(era5_path)\n",
    "except FileNotFoundError:\n",
    "    pass\n",
    "\n",
    "!smallbaselineApp.py $config_path --work-dir {mint_path} --dostep correct_troposphere"
   ]
  },
  {
   "cell_type": "markdown",
   "id": "ca645433-747d-45cb-bd44-07807808b91c",
   "metadata": {},
   "source": [
    "---\n",
    "## 8. Correct for DEM Errors\n",
    "\n",
    "**Run the `correct_topography` step**"
   ]
  },
  {
   "cell_type": "code",
   "execution_count": null,
   "id": "a79d5277-ecae-48d5-9926-ccaf6755b865",
   "metadata": {},
   "outputs": [],
   "source": [
    "!smallbaselineApp.py $config_path --work-dir {mint_path} --dostep correct_topography"
   ]
  },
  {
   "cell_type": "markdown",
   "id": "e0851c40-3c37-4a47-bc41-c79e65165466",
   "metadata": {},
   "source": [
    "## 9. Calculate the Root Mean Square (RMS) of Residual Phase Time-Series for Each Acquisition\n",
    "\n",
    "**Run the `residual_RMS` step**\n",
    "\n",
    "- *reference: Yunjun et al. (2019, section 4.9 and 5.4)*\n",
    "- To remove the long wavelength component in space, a phase ramp is removed for each acquisition\n",
    "- Sets optimal reference date to date with min RMS\n",
    "- Sets exclude dates (outliers) to dates with RMS > cutoff * median RMS (Median Absolute Deviation)"
   ]
  },
  {
   "cell_type": "code",
   "execution_count": null,
   "id": "aca3cd16-430f-496c-bc27-c7129497bb95",
   "metadata": {},
   "outputs": [],
   "source": [
    "!smallbaselineApp.py $config_path --work-dir {mint_path} --dostep residual_RMS"
   ]
  },
  {
   "cell_type": "markdown",
   "id": "da82e1c0-f22c-40e5-bf86-494b2e997866",
   "metadata": {},
   "source": [
    "## 10. Reference the Entire Time-Series to One Date in Time\n",
    "\n",
    "**Run the `reference_date` step**\n",
    "\n",
    "- *reference: Yunjun et al. (2019, section 4.9)*"
   ]
  },
  {
   "cell_type": "code",
   "execution_count": null,
   "id": "09536ee1-aecc-45f7-a3d2-16fe0ce07374",
   "metadata": {},
   "outputs": [],
   "source": [
    "!smallbaselineApp.py $config_path --work-dir {mint_path} --dostep reference_date"
   ]
  },
  {
   "cell_type": "markdown",
   "id": "63e4df14-0c98-4f4e-a417-5b8b8a5fd58f",
   "metadata": {},
   "source": [
    "## 11. Estimate The Long-Term Velocity Rate\n",
    "\n",
    "**Run the `velocity` step**\n",
    "\n",
    "The timeseries file contains three datasets:\n",
    "- the `time-series` dataset, which is the interferometric range change for each acquisition relative to the reference acquisition\n",
    "- the `date` dataset, which contains the acquisition date for each acquisition\n",
    "- the `bperp` dataset, which contains the timeseries of the perpendicular baseline \n",
    "\n",
    "The ground deformation caused by many geophysical or anthropogenic processes are linear at first order approximation. Therefore it is common to estimate the rate of the ground deformation which is the slope of linear fit to the time-series. "
   ]
  },
  {
   "cell_type": "code",
   "execution_count": null,
   "id": "ef297ae2-5e62-408b-b69c-faf77fcf8435",
   "metadata": {},
   "outputs": [],
   "source": [
    "!smallbaselineApp.py $config_path --work-dir {mint_path} --dostep velocity"
   ]
  },
  {
   "cell_type": "markdown",
   "id": "86e0df4c-53dd-4739-8a3b-599db044a89e",
   "metadata": {},
   "source": [
    "**Plot the velocity map**\n",
    "\n",
    "Note: The min/max values in this plot should be adjusted to your data set. \n",
    "\n",
    "The output of the following call will show a data range. You can run the cell once to collect this information and re-run it after adjustments are made.\n",
    "\n",
    "- You should update `vmin` and `vmax` to match your data range\n",
    "- The `vmin` and `vmax` values that you assign will be used for additional plots in this notebook\n",
    "- If you wish to set 0 deformation to the center of the color scale (green), adjust your min/max values so they are symmetrical\n",
    "    - For example, given a data range of `[-10.691118, 13.904866]`, appropriate symmetrical min/max values would be `[-14.0, 14.0]` "
   ]
  },
  {
   "cell_type": "code",
   "execution_count": null,
   "id": "76028355-f15f-447f-93dd-e60129161c59",
   "metadata": {},
   "outputs": [],
   "source": [
    "colormap_select = osl.select_parameter(\n",
    "    [\n",
    "        \"Display red for uplift, and blue for subsidence\",\n",
    "        \"Display blue for uplift, and red for subsidence\"\n",
    "    ]\n",
    ")\n",
    "display(colormap_select)"
   ]
  },
  {
   "cell_type": "code",
   "execution_count": null,
   "id": "6c78edf3-81d9-40da-8137-e481ceddf5a8",
   "metadata": {},
   "outputs": [],
   "source": [
    "%matplotlib inline\n",
    "cmap = 'jet' if 'red for uplift' in colormap_select.value else 'jet_r'\n",
    "\n",
    "vel_vmin, vel_vmax = util.get_mintpy_vmin_vmax(mint_path/'velocity.h5', 0.05)\n",
    "\n",
    "# uncomment the following 2 lines to manually set the vmin and vmax values\n",
    "# vel_vmin = -2.0\n",
    "# vel_vmax = 2.0\n",
    "\n",
    "scp_args = f'{mint_path}/velocity.h5 velocity -v {vel_vmin} {vel_vmax} --dpi 600 --figsize 15 15 --outfile {plot_path}/velocity.png --update --colormap {cmap}'\n",
    "view.main(scp_args.split())"
   ]
  },
  {
   "cell_type": "markdown",
   "id": "c3bccc8d-6cd7-4048-82e3-7aa2e7ab1294",
   "metadata": {},
   "source": [
    "<div class=\"alert alert-info\">\n",
    "<b>Note :</b> \n",
    "Negative values indicates that target is moving away from the radar (i.e., Subsidence in case of vertical deformation).\n",
    "Positive values indicates that target is moving towards the radar (i.e., uplift in case of vertical deformation). \n",
    "</div>"
   ]
  },
  {
   "cell_type": "markdown",
   "id": "b028dd28-67ba-4964-8da5-5d56d999ce6c",
   "metadata": {},
   "source": [
    "---\n",
    "## 12. Geocode velocity.h5 in Preparation for Creating a velocity.kmz\n",
    "\n",
    "**Run the `geocode` step**\n",
    "\n",
    "- This is unnecessary for geocoded HyP3 data but would be needed for non-geocoded data"
   ]
  },
  {
   "cell_type": "code",
   "execution_count": null,
   "id": "75cb7a27-b3dc-422f-a8d7-5782324b44e6",
   "metadata": {},
   "outputs": [],
   "source": [
    "!smallbaselineApp.py $config_path --work-dir {mint_path} --dostep geocode"
   ]
  },
  {
   "cell_type": "markdown",
   "id": "ecae3094-f4af-4c3b-bc33-eac859da37b9",
   "metadata": {},
   "source": [
    "---\n",
    "## 13. Create a kmz File\n",
    "\n",
    "**Run the `google_earth` step**"
   ]
  },
  {
   "cell_type": "code",
   "execution_count": null,
   "id": "908f2023-8285-42fb-8464-582fc392c514",
   "metadata": {},
   "outputs": [],
   "source": [
    "!smallbaselineApp.py $config_path --work-dir {mint_path} --dostep google_earth"
   ]
  },
  {
   "cell_type": "markdown",
   "id": "42a38e99-31bf-4987-ac4e-fc467f295e77",
   "metadata": {},
   "source": [
    "---\n",
    "## 14. Plot the unwrapped inverted timeseries"
   ]
  },
  {
   "cell_type": "code",
   "execution_count": null,
   "id": "3706048f-8ad4-4bcd-b289-70dbd1dd2994",
   "metadata": {},
   "outputs": [],
   "source": [
    "geotiff_path = mint_path / 'GeoTiffs'\n",
    "disp_path = geotiff_path / 'displacement_maps'\n",
    "unwrapped_path = disp_path / 'unwrapped'\n",
    "unwrapped_path.mkdir(parents=True, exist_ok=True)\n",
    "ts_demErr_path = list(mint_path.glob('timeseries*_demErr.h5'))[0]"
   ]
  },
  {
   "cell_type": "code",
   "execution_count": null,
   "id": "419ee7a8-ca31-4fa0-b45e-e94adc1dd0bf",
   "metadata": {},
   "outputs": [],
   "source": [
    "inv_vmin, inv_vmax = util.get_mintpy_vmin_vmax(ts_demErr_path, 0.05)\n",
    "\n",
    "# uncomment the following 2 lines to manually set the vmin and vmax values\n",
    "# inv_vmin = -2.0\n",
    "# inv_vmax = 2.0\n",
    "\n",
    "scp_args = f'{ts_demErr_path} --notitle --notick --noaxis -v {inv_vmin} {inv_vmax} --dpi 600 --figsize 15 15 --outfile {unwrapped_path}/unwrapped_inverted_ts.png'\n",
    "view.main(scp_args.split())"
   ]
  },
  {
   "cell_type": "markdown",
   "id": "04549703-4043-4a51-9308-02e8286349e4",
   "metadata": {},
   "source": [
    "---\n",
    "## 15. Plot a Motion Transect\n",
    "\n",
    "**Select two points to define a transect on an interactive plot**"
   ]
  },
  {
   "cell_type": "code",
   "execution_count": null,
   "id": "0a42e885-fa10-4592-b86d-2bfd954d7968",
   "metadata": {},
   "outputs": [],
   "source": [
    "%matplotlib widget\n",
    "\n",
    "vel_vmin, vel_vmax = util.get_mintpy_vmin_vmax(velocity_path, 0.05)\n",
    "\n",
    "# uncomment the following 2 lines to manually set the vmin and vmax values\n",
    "# vel_vmin = -2.0\n",
    "# vel_vmax = 2.0\n",
    "\n",
    "vel_vmin /= 100\n",
    "vel_vmax /= 100\n",
    "\n",
    "data, vel_info = mintpy.utils.readfile.read(velocity_path)\n",
    "mask = np.ma.masked_where(data==0, data)\n",
    "data = mask.filled(fill_value=np.nan)\n",
    "line = osl.LineSelector(data, figsize=(9, 9), cmap='jet', vmin=vel_vmin, vmax=vel_vmax)"
   ]
  },
  {
   "cell_type": "markdown",
   "id": "68274501-6358-4c9a-ba09-6c619a490eac",
   "metadata": {},
   "source": [
    "**Plot the selected motion transect**"
   ]
  },
  {
   "cell_type": "code",
   "execution_count": null,
   "id": "b1ac9fe6-aa61-400e-8558-6b8dd8359a2d",
   "metadata": {},
   "outputs": [],
   "source": [
    "geotrans = (float(vel_info['X_FIRST'])), float(vel_info['X_STEP']) , 0.0, float(vel_info['Y_FIRST']), 0.0, float(vel_info['Y_STEP'])\n",
    "\n",
    "def geolocation(x, y, geotrans):\n",
    "    return [geotrans[0]+x*geotrans[1], geotrans[3]+y*geotrans[5]]\n",
    "\n",
    "try:\n",
    "    pnt_1 = geolocation(line.pnt1[0][0], line.pnt1[0][1], geotrans)\n",
    "    pnt_2 = geolocation(line.pnt2[0][0], line.pnt2[0][1], geotrans)\n",
    "    print(f\"point 1: {pnt_1}\")\n",
    "    print(f\"point 2: {pnt_2}\")\n",
    "except TypeError:\n",
    "    print('TypeError')\n",
    "    display(Markdown(f'<text style=color:red>This error may occur if a line was not selected.</text>'))\n",
    "\n",
    "scp_args = f'{mint_path}/velocity.h5 -v {vel_vmin} {vel_vmax} --start-lalo {pnt_1[1]} {pnt_1[0]} --end-lalo {pnt_2[1]} {pnt_2[0]} --outfile x'\n",
    "\n",
    "with osl.work_dir(plot_path):\n",
    "    # let MintPy cleanup its old subplots \n",
    "    # this has been fixed in MintPy 1.5.3 but is required for 1.5.1\n",
    "    plot_transection.main(scp_args.split()[:-2] + ['--noverbose', '--nodisplay'])\n",
    "    # plot transection after removing old subplots\n",
    "    %matplotlib inline\n",
    "    plot_transection.main(scp_args.split())"
   ]
  },
  {
   "cell_type": "markdown",
   "id": "c775e484-b91f-4df8-b3bf-66a68d4d6523",
   "metadata": {},
   "source": [
    "---\n",
    "## 16. Plot the Cumulative Displacement Map and Point Displacement Time Series\n",
    "\n",
    "- Use the `Time` bar below the Cumulative Displacement Map to view displacements for different time periods\n",
    "- Click on the Cumulative Displacement Map to select points for displaying Point Displacement Time-Series"
   ]
  },
  {
   "cell_type": "code",
   "execution_count": null,
   "id": "ca144327-2785-4086-ae68-e72d69184a96",
   "metadata": {},
   "outputs": [],
   "source": [
    "%matplotlib widget\n",
    "\n",
    "tsview.main([str(ts_demErr_path),\n",
    "             f'-d={mint_path}/inputs/geometryGeo.h5', \n",
    "             f'-o={mint_path}/displacement_ts', \n",
    "             f'--outfile={mint_path}/displacement_ts.pdf'])"
   ]
  },
  {
   "cell_type": "code",
   "execution_count": null,
   "id": "642e6c72-330b-4bc6-8b69-8f5dc7f69a15",
   "metadata": {},
   "outputs": [],
   "source": []
  }
 ],
 "metadata": {
  "kernelspec": {
   "display_name": "Python [conda env:.local-osl_mintpy]",
   "language": "python",
   "name": "conda-env-.local-osl_mintpy-py"
  },
  "language_info": {
   "codemirror_mode": {
    "name": "ipython",
    "version": 3
   },
   "file_extension": ".py",
   "mimetype": "text/x-python",
   "name": "python",
   "nbconvert_exporter": "python",
   "pygments_lexer": "ipython3",
   "version": "3.9.0"
  }
 },
 "nbformat": 4,
 "nbformat_minor": 5
}
