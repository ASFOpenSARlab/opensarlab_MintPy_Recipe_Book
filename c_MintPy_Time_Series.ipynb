{
 "cells": [
  {
   "cell_type": "markdown",
   "id": "842af782-0b88-4fca-921c-9f79e2c759dd",
   "metadata": {},
   "source": [
    "# C. Perform MintPy Time Series Analysis\n",
    "\n",
    "*Author: Alex Lewandowski; Alaska Satellite Facility*\n",
    "\n",
    "This notebook assumes that you have loaded a time series into MintPy and have prepared a custom configuration file.\n",
    "\n",
    "\n",
    "**MintPy Workflow**\n",
    "<p align=\"left\">\n",
    "  <img width=\"600\" src=\"https://opensarlab-docs.asf.alaska.edu/opensarlab-notebook-assets/notebook_images/MintPyWorkflow.jpg\">\n",
    "</p>     \n",
    "<p style=\"text-align: center;\">\n",
    "    (Figure from Yunjun et al., 2019)\n",
    "</p>\n",
    "\n",
    "- Blue Ovals: correcting unwrapping errors and inverting for the raw phase time-series\n",
    "- Green Ovals: correcting for noise from different sources to obtain the displacement time-series\n",
    "- Dashed Ovals: Optional Steps\n",
    "\n",
    "---\n",
    "\n",
    "<div class=\"alert alert-info\" style=\"display: flex; align-items: center; font-family: 'Times New Roman', Times, serif; background-color: #d1ecf1;\">\n",
    "  <div style=\"display: flex; align-items: center; width: 10%;\">\n",
    "    <a href=\"https://github.com/ASFOpenSARlab/opensarlab_MintPy_Recipe_Book/issues\">\n",
    "      <img src=\"github_issues.png\" alt=\"GitHub logo over the word Issues\" style=\"width: 100%;\">\n",
    "    </a>\n",
    "  </div>\n",
    "  <div style=\"width: 95%;\">\n",
    "    <b>Did you find a bug? Do you have a feature request?</b>\n",
    "    <br/>\n",
    "    Explore GitHub Issues on this Jupyter Book's GitHub repository. Find solutions, add to the discussion, or start a new bug report or feature request: <a href=\"https://github.com/ASFOpenSARlab/opensarlab_MintPy_Recipe_Book/issues\">opensarlab_MintPy_Recipe_Book Issues</a>\n",
    "  </div>\n",
    "</div>\n",
    "\n",
    "<div class=\"alert alert-info\" style=\"display: flex; align-items: center; justify-content: space-between; font-family: 'Times New Roman', Times, serif; background-color: #d1ecf1;\">\n",
    "  <div style=\"display: flex; align-items: center; width: 10%; margin-right: 10px;\">\n",
    "    <a href=\"mailto:uso@asf.alaska.edu\">\n",
    "      <img src=\"ASF_support_logo.png\" alt=\"ASF logo\" style=\"width: 100%\">\n",
    "    </a>\n",
    "  </div>\n",
    "  <div style=\"width: 95%;\">\n",
    "    <b>Have a question related to SAR, ASF data access, or performing SBAS time series analyses with MintPy?</b>\n",
    "    <br/>\n",
    "    Contact ASF User Support: <a href=\"mailto:uso@asf.alaska.edu\">uso@asf.alaska.edu</a>\n",
    "  </div>\n",
    "</div>\n",
    "\n",
    "---\n",
    "\n",
    "## 0. Import Required Software"
   ]
  },
  {
   "cell_type": "code",
   "execution_count": null,
   "id": "8cde9dcb-a7ce-459d-ae9a-2ba6e61adb69",
   "metadata": {},
   "outputs": [],
   "source": [
    "from pathlib import Path\n",
    "import shutil\n",
    "import sys\n",
    "\n",
    "import h5py\n",
    "from ipyfilechooser import FileChooser\n",
    "from mintpy.cli import view, tsview, plot_network, plot_transection\n",
    "import mintpy.utils\n",
    "from mintpy.utils import plot, readfile\n",
    "import numpy as np\n",
    "import opensarlab_lib as osl\n",
    "\n",
    "current = Path(\"..\").resolve()\n",
    "sys.path.append(str(current))\n",
    "import util.util as util"
   ]
  },
  {
   "cell_type": "markdown",
   "id": "211b836f-6a92-4509-bf74-747cc8d61794",
   "metadata": {},
   "source": [
    "---\n",
    "## 1. Select your project's custom config file\n",
    "\n",
    "- This is located in your project's `MintPy` directory\n",
    "- It is a text file named after your project\n",
    "  - `path/to/MinPy/my_project.txt`"
   ]
  },
  {
   "cell_type": "code",
   "execution_count": null,
   "id": "5448d380-15f9-4cf9-a552-79d2bb4c0593",
   "metadata": {},
   "outputs": [],
   "source": [
    "file_chooser_path = util.get_recent_mintpy_config_path()\n",
    "if file_chooser_path:\n",
    "    fc = FileChooser(path=file_chooser_path.parent, filename=file_chooser_path.name, select_default=True)\n",
    "else:\n",
    "    file_chooser_path = Path.home()\n",
    "    fc = FileChooser(file_chooser_path, select_default=False)\n",
    "    \n",
    "print(\"Select your custom MintPy config file (MintPy/my_project_name.txt):\")\n",
    "display(fc)"
   ]
  },
  {
   "cell_type": "code",
   "execution_count": null,
   "id": "7b5752ac-8444-4d49-85eb-7b858975954e",
   "metadata": {},
   "outputs": [],
   "source": [
    "if Path(fc.selected) != file_chooser_path:\n",
    "    util.write_recent_mintpy_config_path(Path(fc.selected))\n",
    "\n",
    "config_path = Path(fc.selected)\n",
    "mint_path = config_path.parent\n",
    "inputs_path = mint_path / 'inputs'\n",
    "ifgram_path = inputs_path / 'ifgramStack.h5'\n",
    "plot_path = mint_path / 'plots'\n",
    "velocity_path = mint_path/'velocity.h5'"
   ]
  },
  {
   "cell_type": "markdown",
   "id": "fc83bfde-2668-4c53-9b96-0e8db75514d9",
   "metadata": {},
   "source": [
    "---\n",
    "## 2. Modify the Network\n",
    "\n",
    "**Run the `modify_network` step**\n",
    "\n",
    "- Identifies and excludes interferograms (i.e. affected by remaining coherence phase-unwrapping errors) before the network inversion\n",
    "- Updates metadata with changes to your custom config"
   ]
  },
  {
   "cell_type": "code",
   "execution_count": null,
   "id": "96e61c06-14a8-40f8-b267-809d6a17de32",
   "metadata": {},
   "outputs": [],
   "source": [
    "!smallbaselineApp.py $config_path --work-dir {mint_path} --dostep modify_network"
   ]
  },
  {
   "cell_type": "markdown",
   "id": "e2b1b257-efcc-45e0-8879-902ad003b108",
   "metadata": {},
   "source": [
    "---\n",
    "## 3. Plot the interferogram network\n",
    "\n",
    "Running **plot_network.py** gives an overview of the network and the average coherence of the stack. The program creates multiple files as follows:\n",
    "- `ifgramStack_coherence_spatialAvg.txt`: Contains interferogram dates, average coherence temporal and spatial baseline separation.\n",
    "- `Network.pdf`: Displays the network of interferograms on time-baseline coordinates, colorcoded by avergae coherence of the interferograms. \n",
    "- `CoherenceMatrix.pdf` shows the avergae coherence pairs between all available pairs in the stack."
   ]
  },
  {
   "cell_type": "code",
   "execution_count": null,
   "id": "80dfec2d-6b7a-4ade-a6f2-8bd23ff3ee15",
   "metadata": {},
   "outputs": [],
   "source": [
    "%matplotlib inline\n",
    "with osl.work_dir(mint_path):\n",
    "    scp_args = f'{inputs_path}/ifgramStack.h5 --cmap-vlist 0.2 0.7 1.0'\n",
    "    plot_network.main(scp_args.split())\n",
    "    plots = ['pbaseHistory.pdf', 'coherenceHistory.pdf', 'coherenceMatrix.pdf', 'network.pdf']\n",
    "    for p in plots:\n",
    "        if (mint_path/p).exists():\n",
    "            (mint_path/p).rename(f'{plot_path}/{p}')"
   ]
  },
  {
   "cell_type": "markdown",
   "id": "37f4804f-46ba-4ce6-b57f-77b9ae024128",
   "metadata": {},
   "source": [
    "---\n",
    "## 4. Set the Reference Point\n",
    "\n",
    "**Run the `reference_point` step**\n",
    "\n",
    "The interferometric phase is a relative observation by nature. The phases of each unwrapped interferogram are relative with respect to an arbitrary pixel. Therfore, we need to reference all interferograms to a common reference pixel.\n",
    "\n",
    "The `reference_point` step selects a common reference pixel for the stack of interferograms. The default approach of MintPy is to choose a pixel with the highest spatial coherence in the stack. Other options include specifying the longitude and latitude of the desired reference pixel or the line and column number of the refence pixel. "
   ]
  },
  {
   "cell_type": "code",
   "execution_count": null,
   "id": "febe6a28-79ae-4f40-8a96-1c085d931a13",
   "metadata": {},
   "outputs": [],
   "source": [
    "!smallbaselineApp.py $config_path --work-dir {mint_path} --dostep reference_point"
   ]
  },
  {
   "cell_type": "markdown",
   "id": "dd31973f-1775-42d8-8c36-fa8905acf43b",
   "metadata": {},
   "source": [
    "**Confirm presence of expected output files from `reference_point` step**"
   ]
  },
  {
   "cell_type": "code",
   "execution_count": null,
   "id": "fa3f552f-2eab-40de-8f7c-57758b873db3",
   "metadata": {},
   "outputs": [],
   "source": [
    "spatial_coh_pth = mint_path / 'avgSpatialCoh.h5'\n",
    "conn_comp_mask_path = mint_path / 'maskConnComp.h5'\n",
    "\n",
    "if not spatial_coh_pth.exists():\n",
    "    raise Exception(f'Possible error running smallbaselineApp reference_point step. Expected output not found: {spatial_coh_pth}')\n",
    "if not conn_comp_mask_path.exists():\n",
    "    raise Warning(f'Possible error running smallbaselineApp reference_point step. Ignore if you are using HyP3 INSAR_GAMMA data, which does not include connected components. Expected output not found: {conn_comp_mask_path}')"
   ]
  },
  {
   "cell_type": "markdown",
   "id": "6ea2a15a-d1aa-4b91-abba-b6d3d5f2bc63",
   "metadata": {},
   "source": [
    "**Running the \"reference_step\" adds additional attributes \"REF_X, REF_Y\" and \"REF_LON, REF_LAT\" to the `ifgramStack.h5` file. To see the attributes of the file run `info.py`**"
   ]
  },
  {
   "cell_type": "code",
   "execution_count": null,
   "id": "999a8dd0-ab50-48a8-8029-96af75ef1367",
   "metadata": {},
   "outputs": [],
   "source": [
    "!info.py $inputs_path/ifgramStack.h5 | egrep 'REF_'"
   ]
  },
  {
   "cell_type": "markdown",
   "id": "1b4e3838-9227-405b-80d4-bca6b991cdfe",
   "metadata": {},
   "source": [
    "---\n",
    "## 5. Run a Quick Overview\n",
    "\n",
    "**Run the `quick_overview` step**\n",
    "\n",
    "- Assess possible groud deformation using the velocity from traditional interferogram stacking \n",
    "    - *reference: Zebker et al. (1997, JGR)*\n",
    "- Assess distribution of phase unwrapping error from the number of interferogram triplets with non-zero integer ambiguity of closure phase \n",
    "    - *reference: T_int in Yunjun et al. (2019, CAGEO). Related to section 3.2, equation (8-9) and Fig. 3d-e.*"
   ]
  },
  {
   "cell_type": "code",
   "execution_count": null,
   "id": "c6496869-640d-4966-ac4a-5580f6849537",
   "metadata": {},
   "outputs": [],
   "source": [
    "!smallbaselineApp.py $config_path --work-dir {mint_path} --dostep quick_overview"
   ]
  },
  {
   "cell_type": "markdown",
   "id": "08a857d8-7964-4538-bcdd-a857cebb2f44",
   "metadata": {},
   "source": [
    "**Confirm presence of expected output files from `quick_overview` step**"
   ]
  },
  {
   "cell_type": "code",
   "execution_count": null,
   "id": "ded32f91-98d2-41c8-8b99-f536fde9bf27",
   "metadata": {},
   "outputs": [],
   "source": [
    "avg_phase_vel_path = mint_path / 'avgPhaseVelocity.h5'\n",
    "\n",
    "if not avg_phase_vel_path.exists():\n",
    "    raise Exception(f'Possible error running smallbaselineApp quick_overview step. Expected output not found: {avg_phase_vel_path}')"
   ]
  },
  {
   "cell_type": "markdown",
   "id": "ed15edfe-2154-41e0-bad2-88e3944bbd4d",
   "metadata": {},
   "source": [
    "---\n",
    "## 6. Perform Phase Unwrapping Error Correction (Optional)\n",
    "\n",
    "- This can be performed on `HYP3_ISCE_BURST` data but not on `HYP3_GAMMA` data\n",
    "  - Gamma processing software does not produce the connected components data required for this step\n",
    "- To perform unwrapping error correction, you must configure your time series's `mintpy.unwrapError.method` setting to one of the following options:\n",
    "  -  `bridging`\n",
    "      - suitable for regions separated by narrow decorrelated features, e.g. rivers, narrow water bodies \n",
    "  -  `phase-closure`\n",
    "      - suitable for highly redundant network \n",
    "  -  `bridging+phase_closure`\n",
    "      -  recommended when there is a small percentage of errors left after bridging\n",
    " \n",
    "**Visually examine the unwrapped interferograms for potential phase unwrapping errors**"
   ]
  },
  {
   "cell_type": "code",
   "execution_count": null,
   "id": "5599615a-e226-4fcc-a24a-fd0144327e46",
   "metadata": {},
   "outputs": [],
   "source": [
    "%matplotlib inline\n",
    "\n",
    "ifg_vmin, ifg_vmax = util.get_mintpy_vmin_vmax(ifgram_path, bottom_percentile=0.05)\n",
    "ifg_vmin /= 100\n",
    "ifg_vmax /= 100\n",
    "print(f\"ifg_vmin: {ifg_vmin}, ifg_vmax: {ifg_vmax}\")\n",
    "\n",
    "args = f'{ifgram_path} unwrapPhase-* -v {ifg_vmin} {ifg_vmax} --zero-mask --noaxis --noverbose --figsize 12 50 --no-tight-layout'\n",
    "view.main(args.split())"
   ]
  },
  {
   "cell_type": "markdown",
   "id": "d6cbf4df-3783-43d6-9a35-55fcec70f92b",
   "metadata": {},
   "source": [
    "**Examine the number of interferogram triples with non-zero phase closure**\n",
    "\n",
    "For an interferogram triplet ($\\Delta\\phi^{ij}$, $\\Delta\\phi^{jk}$ and $\\Delta\\phi^{ik}$), unwrapping errors will introduce a non-zero integer component $C_{int}^{ijk}$ in the closure phase $C^{ijk}$. Therefore, the number of interferogram triplets with non-zero integer ambiguity $T_{int}$ can be used to detect unwrapping errors (Yunjun et al., 2019):\n",
    "\n",
    "$$ \\large C^{ijk}=\\Delta\\phi^{ij}+\\Delta\\phi^{jk}-\\Delta\\phi^{ik}$$\n",
    "\n",
    "$$ \\large C_{int}^{ijk}=\\frac{C^{ijk}-wrap(C^{ijk})}{2\\pi}$$\n",
    "\n",
    "$$ \\large T_{int}=\\sum_{i=1}^T(C_{int}^{ijk}!=0)$$\n",
    "\n",
    "where $warp$ is an operator to wrap the input number into $[-\\pi, \\pi)$; $T$ is the number of interferogram triplets.\n",
    "\n",
    "**Plot the histogram for the number of triplets with non-zero integer ambiguity.**\n",
    "\n",
    "Take home messages from $T_{int}$ map and histogram:\n",
    "\n",
    "1. Areas with $T_{int}$ > 0 have unwrapping errors.\n",
    "2. Areas sharing the common positive $T_{int}$ value could be corrected.\n",
    "3. Areas with wide-distributed $T_{int}$ value indicates random unwrapping errors, which are difficult to correct.\n",
    "\n",
    "(https://github.com/parosen/Geo-SInC/blob/main/EarthScope2023/5.2_Intro_to_MintPy/smallbaselineApp_aria.ipynb)"
   ]
  },
  {
   "cell_type": "code",
   "execution_count": null,
   "id": "f2005680-6071-4aa1-9cef-963b1192d2d1",
   "metadata": {},
   "outputs": [],
   "source": [
    "%matplotlib inline\n",
    "\n",
    "with osl.work_dir(mint_path):\n",
    "    !smallbaselineApp.py {config_path} --dostep quick_overview\n",
    "    plot.plot_num_triplet_with_nonzero_integer_ambiguity(mint_path/'numTriNonzeroIntAmbiguity.h5', disp_fig=True, fig_size=[14, 4])"
   ]
  },
  {
   "cell_type": "markdown",
   "id": "b9bb2fd6-e4ca-4351-bc22-5a2a2e77894f",
   "metadata": {},
   "source": [
    "**Confirm that an unwrapping error method was not defined in the config if working with `HYP3_GAMMA` data**\n",
    "\n",
    "- `HYP3_GAMMA` products do not include required connected components data\n",
    "- Setting a `mintpy.unwrapError.method` when working with `HYP3_GAMMA` data will cause the inversion step to fail, as expected `unwrapPhase_bridging` and/or `unwrapPhase_phaseClosure` datasets will be missing\n",
    "- Check and (if needed) correct this situation in the cell below"
   ]
  },
  {
   "cell_type": "code",
   "execution_count": null,
   "id": "1c94d8fe-00b7-4e11-b8e0-b197b14d20c3",
   "metadata": {},
   "outputs": [],
   "source": [
    "config_dict = readfile.read_template(config_path)\n",
    "hyp3_isce_burst = 'mintpy.load.connCompFile' in config_dict.keys()\n",
    "unwrap_error_correct = 'mintpy.unwrapError.method' in config_dict.keys() and config_dict['mintpy.unwrapError.method'] not in ['no', 'auto']\n",
    "\n",
    "if unwrap_error_correct and not hyp3_isce_burst:\n",
    "    config_dict['mintpy.unwrapError.method'] = 'no'\n",
    "    config_str = \"\"\n",
    "    for k, v in config_dict.items():\n",
    "        config_str += f'{k} = {v}\\n'\n",
    "    config_path.write_text(config_str)  \n",
    "    unwrap_error_correct = False"
   ]
  },
  {
   "cell_type": "markdown",
   "id": "54fde68f-1c7e-4a4c-9315-1c022347c216",
   "metadata": {},
   "source": [
    "**Perform the `correct_unwrap_error` step**"
   ]
  },
  {
   "cell_type": "code",
   "execution_count": null,
   "id": "1d08f510-dc05-4c44-ab73-e26ce9e9abac",
   "metadata": {},
   "outputs": [],
   "source": [
    "if unwrap_error_correct:\n",
    "    with osl.work_dir(mint_path):\n",
    "        !smallbaselineApp.py {config_path} --dostep correct_unwrap_error"
   ]
  },
  {
   "cell_type": "markdown",
   "id": "565f69cb-f6c5-4735-9a81-ee1db6d2d99b",
   "metadata": {},
   "source": [
    "**Confirm presence of expected output dataset/s from `correct_unwrap_error` step**"
   ]
  },
  {
   "cell_type": "code",
   "execution_count": null,
   "id": "61c794eb-e831-496e-bf6f-aa67600c4187",
   "metadata": {},
   "outputs": [],
   "source": [
    "if unwrap_error_correct:\n",
    "    unw_err_ds = []\n",
    "    if 'bridging' in config_dict['mintpy.unwrapError.method']:\n",
    "        unw_err_ds.append('unwrapPhase_bridging')\n",
    "    if 'phase_closure' in config_dict['mintpy.unwrapError.method']:\n",
    "        unw_err_ds.append('unwrapPhase_phaseClosure')\n",
    "    with h5py.File(ifgram_path, 'r') as f:\n",
    "        for ds in unw_err_ds:\n",
    "            if ds not in f.keys():\n",
    "                raise Exception(f'Possible error running smallbaselineApp correct_unwrap_error step. Expected output dataset ({ds}) not found in  {ifgram_path}')"
   ]
  },
  {
   "cell_type": "markdown",
   "id": "1faaf069-da12-42c4-9821-6c7b084e5aef",
   "metadata": {},
   "source": [
    "**Plot the interferograms after unwrapping error correction**"
   ]
  },
  {
   "cell_type": "code",
   "execution_count": null,
   "id": "3150c9e3-1097-4889-b8b8-f3d77a3a2035",
   "metadata": {},
   "outputs": [],
   "source": [
    "%matplotlib inline\n",
    "if unwrap_error_correct:\n",
    "    print(\"This may take some time and appear to show a blank plot while all the subplots load.\\n\")\n",
    "    unwrapp_args = f'{ifgram_path} unwrap* --zero-mask --figsize 12 50 --noverbose --no-tight-layout'\n",
    "    view.main(unwrapp_args.split())"
   ]
  },
  {
   "cell_type": "markdown",
   "id": "304db88f-8f70-4d14-a7eb-30cc94d6d6bc",
   "metadata": {},
   "source": [
    "**Plot the connected components**"
   ]
  },
  {
   "cell_type": "code",
   "execution_count": null,
   "id": "d17b1d98-3c85-4b76-a794-5207a08394f9",
   "metadata": {},
   "outputs": [],
   "source": [
    "%matplotlib inline\n",
    "if unwrap_error_correct:\n",
    "    print(\"This may take some time and appear to show a blank plot while all the subplots load.\\n\")\n",
    "    unwrapp_args = f'{ifgram_path} conn* --zero-mask --figsize 12 50 --noverbose --no-tight-layout'\n",
    "    view.main(unwrapp_args.split())"
   ]
  },
  {
   "cell_type": "markdown",
   "id": "064df9a0-ebf9-4300-9304-4a7ba52197c8",
   "metadata": {},
   "source": [
    "---\n",
    "## 7. Inverting the Small Baseline network\n",
    "\n",
    "**Run the `invert_network` step**\n",
    "\n",
    "- Invert the network of differential unwrapped interferograms to estimate the time-series of unwrapped phase with respect to a reference acquisition date\n",
    "- By default mintpy selects the first acquisition\n",
    "- The estimated time-series is converted to distance change from radar to target and is provided in meters."
   ]
  },
  {
   "cell_type": "code",
   "execution_count": null,
   "id": "7af532fe-582b-4a44-b604-93b94e8bd4fb",
   "metadata": {
    "scrolled": true
   },
   "outputs": [],
   "source": [
    "!smallbaselineApp.py $config_path --work-dir {mint_path} --dostep invert_network"
   ]
  },
  {
   "cell_type": "markdown",
   "id": "39eb5316-944d-4434-aa8b-29962884450b",
   "metadata": {},
   "source": [
    "**Confirm presence of expected output files from `invert_network` step**"
   ]
  },
  {
   "cell_type": "code",
   "execution_count": null,
   "id": "8efbbdcf-ca4c-4ccf-9f21-1b9d1da9a453",
   "metadata": {},
   "outputs": [],
   "source": [
    "ts_path = mint_path / 'timeseries.h5'\n",
    "temp_coh_path = mint_path / 'temporalCoherence.h5'\n",
    "num_inv_ifgram_path = mint_path / 'numInvIfgram.h5'\n",
    "\n",
    "for pth in [ts_path, temp_coh_path, num_inv_ifgram_path]:\n",
    "    if not pth.exists():\n",
    "        raise Exception(f'Possible error running smallbaselineApp invert_network step. Expected output not found: {pth}')"
   ]
  },
  {
   "cell_type": "markdown",
   "id": "76d6f052-5696-44dd-a63c-601b59209184",
   "metadata": {},
   "source": [
    "**Plot the inverted time series**"
   ]
  },
  {
   "cell_type": "code",
   "execution_count": null,
   "id": "ac2e99ea-b758-4d60-8995-5a8d5cea1e8c",
   "metadata": {},
   "outputs": [],
   "source": [
    "%matplotlib inline\n",
    "inv_vmin, inv_vmax = util.get_mintpy_vmin_vmax(ts_path, mask_path=mint_path/'maskTempCoh.h5', bottom_percentile=0.0)\n",
    "\n",
    "# uncomment the following 2 lines to manually set the vmin and vmax values\n",
    "# inv_vmin = -2.0\n",
    "# inv_vmax = 2.0\n",
    "\n",
    "scp_args = f'{ts_path} --notick --noaxis -v {inv_vmin} {inv_vmax} --dpi 600 --figsize 15 15'\n",
    "view.main(scp_args.split())"
   ]
  },
  {
   "cell_type": "markdown",
   "id": "8daf390c-fc57-4599-a46f-e8a16e9eb460",
   "metadata": {},
   "source": [
    "---\n",
    "## 8. Correct for Tropospheric Propagation Delays (Optional)\n",
    "\n",
    "**Run the `correct_troposphere` step**\n",
    "\n",
    "***This will be skipped if `mintpy.troposphericDelay.method` is set to \"no\" in your custom config***\n",
    "\n",
    "- Requires configuring a `.cdsapirc` file for CDS access\n",
    "  - Run the `CDS_Access.ipynb` (Set Up Climate Data Store Access) Notebook\n",
    "- Uses ECMWF [ERA5 climate reanalysis pressure data](https://cds.climate.copernicus.eu/cdsapp#!/search?type=dataset&keywords=((%20%22Product%20type:%20Reanalysis%22%20)%20AND%20(%20%22Provider:%20Copernicus%20C3S%22%20))&text=pressure)"
   ]
  },
  {
   "cell_type": "code",
   "execution_count": null,
   "id": "165dd16e-0404-4961-b1ce-f8142ab97624",
   "metadata": {
    "scrolled": true
   },
   "outputs": [],
   "source": [
    "template = mintpy.utils.readfile.read_template(config_path)\n",
    "\n",
    "tropo = ('mintpy.troposphericDelay.method' in template.keys() and template['mintpy.troposphericDelay.method'] != 'no') or \\\n",
    "'mintpy.troposphericDelay.method' not in template.keys()\n",
    "\n",
    "era5_path = mint_path / 'ERA5'\n",
    "timeseries_era5_path = mint_path / 'timeseries_ERA5.h5'\n",
    "inputs_era5_path = mint_path / 'inputs/ERA5.h5'\n",
    "\n",
    "# Uncomment code below to delete old tropospheric data if it exists,\n",
    "# allowing MintPy to rerun tropospheric_correction\n",
    "# for f in [timeseries_era5_path, inputs_era5_path]:\n",
    "#     try:\n",
    "#         f.unlink()\n",
    "#     except FileNotFoundError:\n",
    "#         pass\n",
    "# try:\n",
    "#     shutil.rmtree(era5_path)\n",
    "# except FileNotFoundError:\n",
    "#     pass\n",
    "    \n",
    "!smallbaselineApp.py $config_path --work-dir {mint_path} --dostep correct_troposphere"
   ]
  },
  {
   "cell_type": "code",
   "execution_count": null,
   "id": "f7e0f680-feea-4d5a-8e3c-3dc50cf91544",
   "metadata": {},
   "outputs": [],
   "source": [
    "if tropo:\n",
    "    for pth in [era5_path, timeseries_era5_path, inputs_era5_path]:\n",
    "        if not pth.exists():\n",
    "            raise Exception(f'Possible error running smallbaselineApp correct_troposphere step. Expected output not found: {pth}')"
   ]
  },
  {
   "cell_type": "markdown",
   "id": "ca645433-747d-45cb-bd44-07807808b91c",
   "metadata": {},
   "source": [
    "---\n",
    "## 9. Correct for DEM Errors\n",
    "\n",
    "**Run the `correct_topography` step**\n",
    "\n",
    "- MintPy will use the input file `timeseries.h5` if tropospheric correction is turned off in the config\n",
    "- MintPy will use the input file `timeseries_ERA5.h5` if tropospheric correction is turned on in the config"
   ]
  },
  {
   "cell_type": "code",
   "execution_count": null,
   "id": "a79d5277-ecae-48d5-9926-ccaf6755b865",
   "metadata": {
    "scriolled": true,
    "scrolled": true
   },
   "outputs": [],
   "source": [
    "!smallbaselineApp.py $config_path --work-dir {mint_path} --dostep correct_topography"
   ]
  },
  {
   "cell_type": "code",
   "execution_count": null,
   "id": "437983b2-0927-498a-8675-a020436af355",
   "metadata": {},
   "outputs": [],
   "source": [
    "if len(list(mint_path.glob('timeseries_*demErr.h5'))) < 1:\n",
    "    raise Exception(f\"Possible error running smallbaselineApp correct_topography step. Expected output of either {mint_path/'timeseries_demErr.h5'} or {mint_path/'timeseries_ERA5_demErr.h5'}\")"
   ]
  },
  {
   "cell_type": "markdown",
   "id": "e0851c40-3c37-4a47-bc41-c79e65165466",
   "metadata": {},
   "source": [
    "## 10. Calculate the Root Mean Square (RMS) of Residual Phase Time-Series for Each Acquisition\n",
    "\n",
    "**Run the `residual_RMS` step**\n",
    "\n",
    "- *reference: Yunjun et al. (2019, section 4.9 and 5.4)*\n",
    "- To remove the long wavelength component in space, a phase ramp is removed for each acquisition\n",
    "- Sets optimal reference date to date with min RMS\n",
    "- Sets exclude dates (outliers) to dates with RMS > cutoff * median RMS (Median Absolute Deviation)"
   ]
  },
  {
   "cell_type": "code",
   "execution_count": null,
   "id": "aca3cd16-430f-496c-bc27-c7129497bb95",
   "metadata": {},
   "outputs": [],
   "source": [
    "!smallbaselineApp.py $config_path --work-dir {mint_path} --dostep residual_RMS"
   ]
  },
  {
   "cell_type": "markdown",
   "id": "da82e1c0-f22c-40e5-bf86-494b2e997866",
   "metadata": {},
   "source": [
    "## 11. Reference the Entire Time-Series to One Date in Time\n",
    "\n",
    "**Run the `reference_date` step**\n",
    "\n",
    "- *reference: Yunjun et al. (2019, section 4.9)*"
   ]
  },
  {
   "cell_type": "code",
   "execution_count": null,
   "id": "09536ee1-aecc-45f7-a3d2-16fe0ce07374",
   "metadata": {},
   "outputs": [],
   "source": [
    "!smallbaselineApp.py $config_path --work-dir {mint_path} --dostep reference_date"
   ]
  },
  {
   "cell_type": "markdown",
   "id": "63e4df14-0c98-4f4e-a417-5b8b8a5fd58f",
   "metadata": {},
   "source": [
    "## 12. Estimate The Long-Term Velocity Rate\n",
    "\n",
    "**Run the `velocity` step**\n",
    "\n",
    "The timeseries file contains three datasets:\n",
    "- the `time-series` dataset, which is the interferometric range change for each acquisition relative to the reference acquisition\n",
    "- the `date` dataset, which contains the acquisition date for each acquisition\n",
    "- the `bperp` dataset, which contains the timeseries of the perpendicular baseline \n",
    "\n",
    "The ground deformation caused by many geophysical or anthropogenic processes are linear at first order approximation. Therefore it is common to estimate the rate of the ground deformation which is the slope of linear fit to the time-series. "
   ]
  },
  {
   "cell_type": "code",
   "execution_count": null,
   "id": "ef297ae2-5e62-408b-b69c-faf77fcf8435",
   "metadata": {},
   "outputs": [],
   "source": [
    "!smallbaselineApp.py $config_path --work-dir {mint_path} --dostep velocity"
   ]
  },
  {
   "cell_type": "code",
   "execution_count": null,
   "id": "0b67b569-ebed-46e2-bd14-5e7bf895ef13",
   "metadata": {},
   "outputs": [],
   "source": [
    "vel_path = mint_path / 'velocity.h5'\n",
    "\n",
    "if not vel_path.exists():\n",
    "    raise Exception(f'Possible error running smallbaselineApp velocity step. Expected output not found: {vel_path}')"
   ]
  },
  {
   "cell_type": "markdown",
   "id": "86e0df4c-53dd-4739-8a3b-599db044a89e",
   "metadata": {},
   "source": [
    "**Plot the velocity map**\n",
    "\n",
    "Note: The min/max values in this plot should be adjusted to your data set. \n",
    "\n",
    "The output of the following call will show a data range. You can run the cell once to collect this information and re-run it after adjustments are made.\n",
    "\n",
    "- You should update `vmin` and `vmax` to match your data range\n",
    "- The `vmin` and `vmax` values that you assign will be used for additional plots in this notebook\n",
    "- If you wish to set 0 deformation to the center of the color scale (green), adjust your min/max values so they are symmetrical\n",
    "    - For example, given a data range of `[-10.691118, 13.904866]`, appropriate symmetrical min/max values would be `[-14.0, 14.0]` "
   ]
  },
  {
   "cell_type": "code",
   "execution_count": null,
   "id": "76028355-f15f-447f-93dd-e60129161c59",
   "metadata": {},
   "outputs": [],
   "source": [
    "colormap_select = osl.select_parameter(\n",
    "    [\n",
    "        \"Display red for uplift, and blue for subsidence\",\n",
    "        \"Display blue for uplift, and red for subsidence\"\n",
    "    ]\n",
    ")\n",
    "display(colormap_select)"
   ]
  },
  {
   "cell_type": "code",
   "execution_count": null,
   "id": "6c78edf3-81d9-40da-8137-e481ceddf5a8",
   "metadata": {},
   "outputs": [],
   "source": [
    "%matplotlib inline\n",
    "cmap = 'jet' if 'red for uplift' in colormap_select.value else 'jet_r'\n",
    "\n",
    "vel_vmin, vel_vmax = util.get_mintpy_vmin_vmax(mint_path/'velocity.h5', mask_path=mint_path/'maskTempCoh.h5', bottom_percentile=0.05)\n",
    "\n",
    "# uncomment the following 2 lines to manually set the vmin and vmax values\n",
    "# vel_vmin = -2.0\n",
    "# vel_vmax = 2.0\n",
    "\n",
    "scp_args = f'{mint_path}/velocity.h5 velocity -v {vel_vmin} {vel_vmax} --dpi 600 --figsize 15 15 --outfile {plot_path}/velocity.png --update --colormap {cmap}'\n",
    "view.main(scp_args.split())"
   ]
  },
  {
   "cell_type": "markdown",
   "id": "c3bccc8d-6cd7-4048-82e3-7aa2e7ab1294",
   "metadata": {},
   "source": [
    "<div class=\"alert alert-info\">\n",
    "<b>Note :</b> \n",
    "Negative values indicates that target is moving away from the radar (i.e., Subsidence in case of vertical deformation).\n",
    "Positive values indicates that target is moving towards the radar (i.e., uplift in case of vertical deformation). \n",
    "</div>"
   ]
  },
  {
   "cell_type": "markdown",
   "id": "b028dd28-67ba-4964-8da5-5d56d999ce6c",
   "metadata": {},
   "source": [
    "---\n",
    "## 13. Geocode velocity.h5 in Preparation for Creating a velocity.kmz\n",
    "\n",
    "**Run the `geocode` step**\n",
    "\n",
    "- This is unnecessary for geocoded HyP3 data but would be needed for non-geocoded data"
   ]
  },
  {
   "cell_type": "code",
   "execution_count": null,
   "id": "75cb7a27-b3dc-422f-a8d7-5782324b44e6",
   "metadata": {},
   "outputs": [],
   "source": [
    "!smallbaselineApp.py $config_path --work-dir {mint_path} --dostep geocode"
   ]
  },
  {
   "cell_type": "markdown",
   "id": "ecae3094-f4af-4c3b-bc33-eac859da37b9",
   "metadata": {},
   "source": [
    "---\n",
    "## 14. Create a kmz File\n",
    "\n",
    "**Run the `google_earth` step**"
   ]
  },
  {
   "cell_type": "code",
   "execution_count": null,
   "id": "908f2023-8285-42fb-8464-582fc392c514",
   "metadata": {},
   "outputs": [],
   "source": [
    "!smallbaselineApp.py $config_path --work-dir {mint_path} --dostep google_earth"
   ]
  },
  {
   "cell_type": "code",
   "execution_count": null,
   "id": "938aa4a2-47a0-454a-880a-978fc08f8844",
   "metadata": {},
   "outputs": [],
   "source": [
    "vel_kmz_path = mint_path / 'velocity.kmz'\n",
    "\n",
    "if not vel_path.exists():\n",
    "    raise Exception(f'Possible error running smallbaselineApp google_earth step. Expected output not found: {vel_kmz_path}')"
   ]
  },
  {
   "cell_type": "markdown",
   "id": "42a38e99-31bf-4987-ac4e-fc467f295e77",
   "metadata": {},
   "source": [
    "---\n",
    "## 15. Plot the unwrapped inverted timeseries again after tropospheric (optional) and topospheric correction"
   ]
  },
  {
   "cell_type": "code",
   "execution_count": null,
   "id": "3706048f-8ad4-4bcd-b289-70dbd1dd2994",
   "metadata": {},
   "outputs": [],
   "source": [
    "geotiff_path = mint_path / 'GeoTiffs'\n",
    "disp_path = geotiff_path / 'displacement_maps'\n",
    "unwrapped_path = disp_path / 'unwrapped'\n",
    "unwrapped_path.mkdir(parents=True, exist_ok=True)\n",
    "ts_demErr_path = list(mint_path.glob('timeseries*_demErr.h5'))"
   ]
  },
  {
   "cell_type": "markdown",
   "id": "69c6328f-7f00-436d-90f4-31b038ec0aa2",
   "metadata": {},
   "source": [
    "**If you have both tropospheric delay corrected and uncorrected time series available, select which to plot**\n",
    "\n",
    "- If you have run the time series more than once, with tropospheric correction both on and off, you will have time series saved for both configurations\n",
    "- `timeseries_demErr.h5` is the time series not corrected for tropospheric delay\n",
    "- `timeseries_ERA5_demErr.h5` is the time series corrected for tropospheric delay"
   ]
  },
  {
   "cell_type": "code",
   "execution_count": null,
   "id": "278c2d1a-1590-4d2b-8358-dbd19d036d98",
   "metadata": {},
   "outputs": [],
   "source": [
    "if len(ts_demErr_path) > 1:\n",
    "    ts_select_option = osl.select_parameter(\n",
    "        [\n",
    "            ts_demErr_path[0],\n",
    "            ts_demErr_path[1]\n",
    "        ],\n",
    "        description='Select the time series file you wish to plot:'\n",
    "    )\n",
    "    display(ts_select_option)\n",
    "else:\n",
    "    ts_demErr_sel_path = ts_demErr_path[0]"
   ]
  },
  {
   "cell_type": "code",
   "execution_count": null,
   "id": "419ee7a8-ca31-4fa0-b45e-e94adc1dd0bf",
   "metadata": {},
   "outputs": [],
   "source": [
    "if len(ts_demErr_path) > 1:\n",
    "    ts_demErr_sel_path = ts_select_option.value\n",
    "\n",
    "inv_vmin, inv_vmax = util.get_mintpy_vmin_vmax(ts_demErr_sel_path, mask_path=mint_path/'maskTempCoh.h5',  bottom_percentile=0.0)\n",
    "\n",
    "# uncomment the following 2 lines to manually set the vmin and vmax values\n",
    "# inv_vmin = -2.0\n",
    "# inv_vmax = 2.0\n",
    "\n",
    "scp_args = f'{ts_demErr_sel_path} --notick --noaxis -v {inv_vmin} {inv_vmax} --dpi 600 --figsize 15 15 --outfile {unwrapped_path}/unwrapped_inverted_ts.png'\n",
    "view.main(scp_args.split())"
   ]
  },
  {
   "cell_type": "markdown",
   "id": "04549703-4043-4a51-9308-02e8286349e4",
   "metadata": {},
   "source": [
    "---\n",
    "## 16. Plot a Motion Transect\n",
    "\n",
    "**Select two points to define a transect on an interactive plot**"
   ]
  },
  {
   "cell_type": "code",
   "execution_count": null,
   "id": "0a42e885-fa10-4592-b86d-2bfd954d7968",
   "metadata": {},
   "outputs": [],
   "source": [
    "%matplotlib widget\n",
    "\n",
    "vel_vmin, vel_vmax = util.get_mintpy_vmin_vmax(velocity_path, mask_path=mint_path/'maskTempCoh.h5',  bottom_percentile=0.05)\n",
    "\n",
    "# uncomment the following 2 lines to manually set the vmin and vmax values\n",
    "# vel_vmin = -2.0\n",
    "# vel_vmax = 2.0\n",
    "\n",
    "data, vel_info = mintpy.utils.readfile.read(velocity_path)\n",
    "mask = np.ma.masked_where(data==0, data)\n",
    "data = mask.filled(fill_value=np.nan)\n",
    "line = osl.LineSelector(data, figsize=(9, 9), cmap='jet', vmin=vel_vmin/100, vmax=vel_vmax/100)"
   ]
  },
  {
   "cell_type": "markdown",
   "id": "68274501-6358-4c9a-ba09-6c619a490eac",
   "metadata": {},
   "source": [
    "**Plot the selected motion transect**"
   ]
  },
  {
   "cell_type": "code",
   "execution_count": null,
   "id": "b1ac9fe6-aa61-400e-8558-6b8dd8359a2d",
   "metadata": {},
   "outputs": [],
   "source": [
    "geotrans = (float(vel_info['X_FIRST'])), float(vel_info['X_STEP']) , 0.0, float(vel_info['Y_FIRST']), 0.0, float(vel_info['Y_STEP'])\n",
    "\n",
    "def geolocation(x, y, geotrans):\n",
    "    return [geotrans[0]+x*geotrans[1], geotrans[3]+y*geotrans[5]]\n",
    "\n",
    "try:\n",
    "    pnt_1 = geolocation(line.pnt1[0][0], line.pnt1[0][1], geotrans)\n",
    "    pnt_2 = geolocation(line.pnt2[0][0], line.pnt2[0][1], geotrans)\n",
    "    print(f\"point 1: {pnt_1}\")\n",
    "    print(f\"point 2: {pnt_2}\")\n",
    "except TypeError:\n",
    "    print('TypeError')\n",
    "    display(Markdown(f'<text style=color:red>This error may occur if a line was not selected.</text>'))\n",
    "\n",
    "transection_args = f'{mint_path}/velocity.h5 -v {vel_vmin} {vel_vmax} --no-tight-layout --start-lalo {pnt_1[1]} {pnt_1[0]} --end-lalo {pnt_2[1]} {pnt_2[0]} --outfile x'\n",
    "\n",
    "with osl.work_dir(plot_path):\n",
    "    # let MintPy cleanup its old subplots \n",
    "    # this has been fixed in MintPy 1.5.3 but is required for 1.5.1\n",
    "    plot_transection.main(transection_args.split()[:-2] + ['--noverbose', '--nodisplay'])\n",
    "    # plot transection after removing old subplots\n",
    "    %matplotlib inline\n",
    "    plot_transection.main(transection_args.split())"
   ]
  },
  {
   "cell_type": "markdown",
   "id": "c775e484-b91f-4df8-b3bf-66a68d4d6523",
   "metadata": {},
   "source": [
    "---\n",
    "## 17. Plot the Cumulative Displacement Map and Point Displacement Time Series\n",
    "\n",
    "- Use the `Time` bar below the Cumulative Displacement Map to view displacements for different time periods\n",
    "- Click on the Cumulative Displacement Map to select points for displaying Point Displacement Time-Series"
   ]
  },
  {
   "cell_type": "code",
   "execution_count": null,
   "id": "ca144327-2785-4086-ae68-e72d69184a96",
   "metadata": {},
   "outputs": [],
   "source": [
    "%matplotlib widget\n",
    "\n",
    "tsview.main(\n",
    "    [\n",
    "        str(ts_demErr_sel_path),\n",
    "        f'-d={mint_path}/inputs/geometryGeo.h5', \n",
    "        f'-o={mint_path}/displacement_ts',\n",
    "        f'--outfile={mint_path}/displacement_ts.pdf'\n",
    "    ]\n",
    ")"
   ]
  },
  {
   "cell_type": "code",
   "execution_count": null,
   "id": "91cc9605-a4cd-4075-b963-735a1cae912f",
   "metadata": {},
   "outputs": [],
   "source": []
  }
 ],
 "metadata": {
  "kernelspec": {
   "display_name": "Python [conda env:.local-opensarlab_mintpy_recipe_book]",
   "language": "python",
   "name": "conda-env-.local-opensarlab_mintpy_recipe_book-py"
  },
  "language_info": {
   "codemirror_mode": {
    "name": "ipython",
    "version": 3
   },
   "file_extension": ".py",
   "mimetype": "text/x-python",
   "name": "python",
   "nbconvert_exporter": "python",
   "pygments_lexer": "ipython3",
   "version": "3.9.0"
  }
 },
 "nbformat": 4,
 "nbformat_minor": 5
}
